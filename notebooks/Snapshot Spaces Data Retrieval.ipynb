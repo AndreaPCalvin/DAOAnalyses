{
 "cells": [
  {
   "cell_type": "markdown",
   "id": "ee360aee",
   "metadata": {},
   "source": [
    "# Notebook designed to retireve data from any Snapshot space"
   ]
  },
  {
   "cell_type": "code",
   "execution_count": 1,
   "id": "8a562217",
   "metadata": {},
   "outputs": [],
   "source": [
    "import pandas as pd\n",
    "import requests"
   ]
  },
  {
   "cell_type": "markdown",
   "id": "c026a4a8",
   "metadata": {},
   "source": [
    "# DAO queries and data retrieval "
   ]
  },
  {
   "cell_type": "code",
   "execution_count": 2,
   "id": "7072d847",
   "metadata": {},
   "outputs": [],
   "source": [
    "# Production hub\n",
    "URL = \"https://hub.snapshot.org/graphql\""
   ]
  },
  {
   "cell_type": "markdown",
   "id": "da3cc68d",
   "metadata": {},
   "source": [
    "### \"id\" of the Snapshot space, i.e. IndieDAO space"
   ]
  },
  {
   "cell_type": "code",
   "execution_count": 3,
   "id": "6b96d2fe",
   "metadata": {},
   "outputs": [],
   "source": [
    "DAO = \"indiedao.eth\""
   ]
  },
  {
   "cell_type": "markdown",
   "id": "e0396d50",
   "metadata": {},
   "source": [
    "Save proposals information"
   ]
  },
  {
   "cell_type": "code",
   "execution_count": 4,
   "id": "abc4c8fc",
   "metadata": {},
   "outputs": [],
   "source": [
    "def get_all_proposals(dao, date):\n",
    "  QUERY_VOTES = f\"\"\"query Proposals {{\n",
    "  proposals(\n",
    "    where: {{space_in: \"{dao}\", created_gt: {date}}},\n",
    "    first: 1000,\n",
    "    orderBy: \"created\",\n",
    "    orderDirection: asc\n",
    "  ) {{\n",
    "    id\n",
    "    created\n",
    "    title\n",
    "    votes\n",
    "    type\n",
    "    state\n",
    "    author\n",
    "    scores\n",
    "    scores_total\n",
    "    choices\n",
    "    end\n",
    "  }}\n",
    "}}\n",
    "\"\"\"\n",
    "  return QUERY_VOTES\n",
    "\n",
    "def set_all_proposals_info(dao):\n",
    "  date = 0\n",
    "  list_dic_proposals = []\n",
    "  while True:\n",
    "    props = requests.post(URL, json={'query': get_all_proposals(dao, date)}).json()[\"data\"][\"proposals\"]\n",
    "\n",
    "    list_dic_proposals += props\n",
    "    date = max(list(map(lambda x: x[\"created\"], props)))\n",
    "\n",
    "    if len(props) < 1000:\n",
    "      break\n",
    "\n",
    "  df_proposals = pd.DataFrame.from_dict(list_dic_proposals, orient='columns')\n",
    "  df_proposals['created'] = pd.to_datetime(df_proposals['created'], unit='s')\n",
    "  df_proposals['end'] = pd.to_datetime(df_proposals['end'], unit='s')\n",
    "  df_proposals['author'] = df_proposals['author'].str.lower()\n",
    "\n",
    "  return df_proposals\n",
    "\n",
    "\n",
    "df_proposals = set_all_proposals_info(DAO)\n",
    "\n",
    "#Save data in csv format\n",
    "df_proposals.to_csv(\"proposals.csv\")"
   ]
  },
  {
   "cell_type": "markdown",
   "id": "1b67fe54",
   "metadata": {},
   "source": [
    "Save the voting information"
   ]
  },
  {
   "cell_type": "code",
   "execution_count": 5,
   "id": "453bbf5c",
   "metadata": {},
   "outputs": [],
   "source": [
    "def get_all_votes(dao, date):\n",
    "  QUERY_VOTES = f\"\"\"query Votes {{\n",
    "    votes(\n",
    "      where: {{space_in: \"{dao}\", created_gt: {date} }},\n",
    "      first: 1000,\n",
    "      orderBy: \"created\",\n",
    "      orderDirection: asc\n",
    "    ) {{\n",
    "      id\n",
    "      created\n",
    "      voter\n",
    "      vp\n",
    "      choice\n",
    "      proposal {{\n",
    "          id\n",
    "          title\n",
    "      }}\n",
    "    }}\n",
    "  }}\n",
    "  \"\"\"\n",
    "  return QUERY_VOTES\n",
    "\n",
    "def set_votes_info(dao):\n",
    "  date = 0\n",
    "  list_dict_results = []\n",
    "  while True:\n",
    "\n",
    "    votes = requests.post(URL, json={'query': get_all_votes(dao, date)}).json()[\"data\"][\"votes\"]\n",
    "    list_dict_results += votes\n",
    "    date = max(list(map(lambda x: x[\"created\"], votes)))\n",
    "\n",
    "    if len(votes) < 1000:\n",
    "      break\n",
    "\n",
    "  df_votes = pd.DataFrame.from_dict(list_dict_results, orient='columns')\n",
    "  df_votes['created'] = pd.to_datetime(df_votes['created'], unit='s')\n",
    "  df_votes['voter'] = df_votes['voter'].str.lower()\n",
    "  df_votes[\"choice\"] = df_votes[\"choice\"].apply(lambda val: val[0] if (type(val) == list) else val)\n",
    "  return df_votes\n",
    "\n",
    "\n",
    "df_votes = set_votes_info(DAO)\n",
    "\n",
    "#Save data in csv format\n",
    "df_votes.to_csv(\"votes.csv\")"
   ]
  }
 ],
 "metadata": {
  "kernelspec": {
   "display_name": "Python 3 (ipykernel)",
   "language": "python",
   "name": "python3"
  },
  "language_info": {
   "codemirror_mode": {
    "name": "ipython",
    "version": 3
   },
   "file_extension": ".py",
   "mimetype": "text/x-python",
   "name": "python",
   "nbconvert_exporter": "python",
   "pygments_lexer": "ipython3",
   "version": "3.11.4"
  }
 },
 "nbformat": 4,
 "nbformat_minor": 5
}
