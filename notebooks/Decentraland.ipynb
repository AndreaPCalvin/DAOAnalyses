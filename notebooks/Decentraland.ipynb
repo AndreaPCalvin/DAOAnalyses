{
 "cells": [
  {
   "cell_type": "markdown",
   "id": "5faf79d3",
   "metadata": {},
   "source": [
    "# Analysis of Decentraland"
   ]
  },
  {
   "cell_type": "code",
   "execution_count": null,
   "id": "be7c632e",
   "metadata": {},
   "outputs": [],
   "source": [
    "#Imports\n",
    "import pandas as pd\n",
    "from datetime import datetime\n",
    "import statistics\n",
    "import numpy as np\n",
    "import matplotlib.pyplot as plt\n",
    "from collections import defaultdict"
   ]
  },
  {
   "cell_type": "markdown",
   "id": "59cd9578",
   "metadata": {},
   "source": [
    "# This step is only needed if raw data has just being obtained\n",
    "If working with the research data, this step can be skipped"
   ]
  },
  {
   "cell_type": "markdown",
   "id": "72091bd5",
   "metadata": {},
   "source": [
    "We upload the Decentraland data, both votes and proposals."
   ]
  },
  {
   "cell_type": "code",
   "execution_count": null,
   "id": "19eb97d5",
   "metadata": {},
   "outputs": [],
   "source": [
    "votes = pd.read_csv('votes.csv')\n",
    "proposals = pd.read_csv('proposals.csv', encoding='latin1')"
   ]
  },
  {
   "cell_type": "markdown",
   "id": "c4e03208",
   "metadata": {},
   "source": [
    "We check for duplicate rows and remove them if they exist."
   ]
  },
  {
   "cell_type": "code",
   "execution_count": null,
   "id": "118ea215",
   "metadata": {},
   "outputs": [],
   "source": [
    "#duplicates -> There are no duplicates\n",
    "\n",
    "print(\"Original rows:\", len(proposals))\n",
    "proposals = proposals.drop_duplicates()\n",
    "print(\"Rows after removing duplicates:\", len(proposals))\n",
    "\n",
    "#Votes\n",
    "print(\"Original rows:\", len(votes))\n",
    "votes = votes.drop_duplicates()\n",
    "print(\"Rows after removing duplicates:\", len(votes))"
   ]
  },
  {
   "cell_type": "markdown",
   "id": "d064c8e5",
   "metadata": {},
   "source": [
    "We verify that there are no null or negative values."
   ]
  },
  {
   "cell_type": "code",
   "execution_count": null,
   "id": "47ea3fca",
   "metadata": {},
   "outputs": [],
   "source": [
    "print(\"Number of rows with negative votes:\", len(votes[votes['vp']<0]))\n",
    "print(\"Number of rows with invalid votes:\", (votes['vp'].isna().sum()))"
   ]
  },
  {
   "cell_type": "markdown",
   "id": "a571cfe0",
   "metadata": {},
   "source": [
    "We parse the “proposal” column of the votes to remove the word id, as well as any curly brackets it contains. We also convert the identifier to lowercase. "
   ]
  },
  {
   "cell_type": "code",
   "execution_count": null,
   "id": "52d1ac18",
   "metadata": {},
   "outputs": [],
   "source": [
    "votes['proposal'] = votes['proposal'].apply(lambda x: x.replace(\"{'id': '\", \"\"))\n",
    "votes['proposal'] = votes['proposal'].apply(lambda x: x.replace(\"'}\", \"\"))\n",
    "votes['proposal'] = votes['proposal'].str.lower()"
   ]
  },
  {
   "cell_type": "markdown",
   "id": "e055164c",
   "metadata": {},
   "source": [
    "We convert the id, author, and voter columns of the corresponding dataframes to lowercase."
   ]
  },
  {
   "cell_type": "code",
   "execution_count": null,
   "id": "43e40de7",
   "metadata": {},
   "outputs": [],
   "source": [
    "def lowercase_columns(df, cols):\n",
    "    for c in cols:\n",
    "        if c in df.columns:\n",
    "            df[c] = df[c].apply(lambda x: x.lower() if isinstance(x, str) else x)\n",
    "    return df\n",
    "\n",
    "proposals = lowercase_columns(proposals, ['id', 'author'])\n",
    "votes = lowercase_columns(votes, ['id', 'voter'])\n"
   ]
  },
  {
   "cell_type": "markdown",
   "id": "16170e3d",
   "metadata": {},
   "source": [
    "### Calculation of new metrics "
   ]
  },
  {
   "cell_type": "markdown",
   "id": "49f519fe",
   "metadata": {},
   "source": [
    "Adding a new field with the total VP for each proposal."
   ]
  },
  {
   "cell_type": "code",
   "execution_count": null,
   "id": "01875ccd",
   "metadata": {},
   "outputs": [],
   "source": [
    "# Add totalVP \n",
    "\n",
    "vp_prop = votes.groupby('proposal')['vp'].sum()\n",
    "vp_prop = pd.DataFrame(vp_prop).reset_index()\n",
    "vp_prop = vp_prop.rename(columns={'proposal' : 'id'})\n",
    "\n",
    "proposals = proposals.merge(vp_prop, how='left', on='id')\n",
    "proposals = proposals.rename(columns={'vp' : 'totalVP'})\n",
    "proposals['totalVP'] = proposals['totalVP'].fillna(0)\n",
    "proposals"
   ]
  },
  {
   "cell_type": "markdown",
   "id": "a83408cf",
   "metadata": {},
   "source": [
    "We save the clean dataframes."
   ]
  },
  {
   "cell_type": "code",
   "execution_count": null,
   "id": "7270255d",
   "metadata": {},
   "outputs": [],
   "source": [
    "proposals.to_csv('./proposalsClean.csv', index=False)\n",
    "votes.to_csv('./votesClean.csv', index=False)"
   ]
  },
  {
   "cell_type": "markdown",
   "id": "618ca52a",
   "metadata": {},
   "source": [
    "# Calculation of metrics\n",
    "In this section, we extract some metrics that are useful for analysis."
   ]
  },
  {
   "cell_type": "code",
   "execution_count": null,
   "id": "06680387",
   "metadata": {},
   "outputs": [],
   "source": [
    "print(\"Number of unique voters:\", len(set(votes['voter'])))\n",
    "print(\"Total number of votes:\", len(votes))\n",
    "print(\"Total number of proposals:\", len(proposals))"
   ]
  },
  {
   "cell_type": "markdown",
   "id": "71b7d9a1",
   "metadata": {},
   "source": [
    "We extract the IDs of the proposals with unanimity."
   ]
  },
  {
   "cell_type": "code",
   "execution_count": null,
   "id": "0641f87b",
   "metadata": {},
   "outputs": [],
   "source": [
    "unanimidad = 0\n",
    "prop_id_list = []\n",
    "\n",
    "for prop_id in proposals['id']:\n",
    "    \n",
    "    num_votos = list(proposals[proposals['id'] == prop_id]['votes'])[0]\n",
    "\n",
    "    if num_votos != 0:\n",
    "        num_opt = len(set(votes[votes['proposal']==prop_id]['choice']))\n",
    "        if num_opt == 1:\n",
    "                unanimidad +=1\n",
    "                prop_id_list.append(prop_id)\n",
    "\n",
    "\n",
    "pd.DataFrame(prop_id_list).to_csv(\"props_ids.csv\", index = False)\n",
    "print(f\"Number of unanimous proposals: {unanimidad}\")\n"
   ]
  },
  {
   "cell_type": "markdown",
   "id": "53fe9e9d",
   "metadata": {},
   "source": [
    "We establish the period of time to be analyzed and order the proposals chronologically for analysis."
   ]
  },
  {
   "cell_type": "code",
   "execution_count": null,
   "id": "e13c2ec6",
   "metadata": {},
   "outputs": [],
   "source": [
    "#Time frame to be studied\n",
    "ini = min(votes[\"created\"])\n",
    "fin = datetime(2024, 6, 3, 0, 0, 0, 0)\n",
    "allMonths = pd.date_range(start=ini, end=fin, freq=pd.DateOffset(months=1)).strftime(\"%Y-%m\")\n",
    "allMonthsNew = pd.date_range(start=ini, end=fin, freq=pd.DateOffset(months=1)).strftime(\"%Y-%b\")\n",
    "\n",
    "#Auxiliary structure used to display graphics in a more aesthetic way\n",
    "DateAxis = []\n",
    "for k in allMonthsNew:\n",
    "  sp = k.split(\"-\")\n",
    "  if sp[1] != \"Jan\":\n",
    "    DateAxis.append(sp[1])\n",
    "  else:\n",
    "    DateAxis.append(sp[1]+\"\\n\"+sp[0])\n",
    "    \n",
    "#Sort proposals by creation date to review them in order\n",
    "tupla = zip(proposals['id'], proposals['date'])\n",
    "# Convert zip to list and keep only entries with parseable dates, then sort by datetime\n",
    "tupla_list = list(tupla)\n",
    "\n",
    "tupla_clean = []\n",
    "for id_, date_str in tupla_list:\n",
    "  if pd.isna(date_str):\n",
    "    continue\n",
    "  dt = pd.to_datetime(date_str, errors='coerce')\n",
    "  if pd.isna(dt):\n",
    "    continue\n",
    "  tupla_clean.append((id_, dt))\n",
    "\n",
    "IDsPropsOrdenados = sorted(tupla_clean, key=lambda x: x[1])"
   ]
  },
  {
   "cell_type": "markdown",
   "id": "8ff636aa",
   "metadata": {},
   "source": [
    "# Simple metrics"
   ]
  },
  {
   "cell_type": "code",
   "execution_count": null,
   "id": "bbd46820",
   "metadata": {},
   "outputs": [],
   "source": [
    "print(f\"Total number of months: {len(allMonths)}\")\n",
    "print(\"----------------------------------\")\n",
    "\n",
    "print(f\"Total number of proposals: {len(proposals)}\")\n",
    "print(f\"Total number of voters: {len(set(votes['voter']))}\")\n",
    "print(f\"Total number of votes: {len(votes)}\")\n",
    "print(\"----------------------------------\")\n",
    "\n",
    "print(f\"Total number of votes: {votes['id'].count()}\")\n",
    "proposals['votes'] = pd.to_numeric(proposals['votes'], errors='coerce')\n",
    "print(f\"Max number of votes in a proposal: {max(proposals['votes'])}\")\n",
    "print(f\"Min number of votes in a proposal: {min(proposals['votes'])}\")\n",
    "print(f\"Median number of votes: {proposals['votes'].median()}\")\n",
    "print(f\"Mean number of votes: {proposals['votes'].mean():.2f}\")\n",
    "print(\"----------------------------------\")\n",
    "\n",
    "votos_gr = votes.groupby('voter')['id'].count()\n",
    "print(f\"Max number of votes for a voter: {max(votos_gr)}\")\n",
    "print(f\"Min number of votes for a voter: {min(votos_gr)}\")\n",
    "print(f\"Median number of votes: {statistics.median(votos_gr)}\")\n",
    "print(f\"Mean number of votes: {statistics.mean(votos_gr)}\")"
   ]
  },
  {
   "cell_type": "markdown",
   "id": "27e798d6",
   "metadata": {},
   "source": [
    "# Simple metrics related to VP"
   ]
  },
  {
   "cell_type": "code",
   "execution_count": null,
   "id": "9a225993",
   "metadata": {},
   "outputs": [],
   "source": [
    "vp = []\n",
    "\n",
    "for voter in set(votes['voter']):\n",
    "    vp.append(statistics.median(votes[votes['voter'] == voter]['vp']))\n",
    "\n",
    "total_median_vp = sum(vp)\n",
    "\n",
    "print(f\"Sum of the median values of the voters' vp: {total_median_vp}\")"
   ]
  },
  {
   "cell_type": "code",
   "execution_count": null,
   "id": "2560df9d",
   "metadata": {},
   "outputs": [],
   "source": [
    "#voting power per voter\n",
    "vp_gr = votes.groupby('voter')['vp'].median()\n",
    "\n",
    "print(f\"Max VP for a voter (median): {max(vp_gr)}, {max(vp_gr)  /total_median_vp*100}\")\n",
    "print(f\"Min VP for a voter (median): {min(vp_gr)}, {min(vp_gr) /total_median_vp*100}\")\n",
    "print(f\"Median VP for a voter (median): {statistics.median(vp_gr)}, {statistics.median(vp_gr) /total_median_vp*100}\")\n",
    "print(f\"Mean VP for a voter (median): {statistics.mean(vp_gr)}, {statistics.mean(vp_gr) /total_median_vp*100}\")"
   ]
  },
  {
   "cell_type": "code",
   "execution_count": null,
   "id": "915b2284",
   "metadata": {},
   "outputs": [],
   "source": [
    "#VP per proposal\n",
    "print(f\"Total number of vp: {proposals['totalVP'].sum()}\")\n",
    "\n",
    "print(f\"Max VP in a proposal: {max(proposals['totalVP'])}, {max(proposals['totalVP'])/total_median_vp*100}\")\n",
    "print(f\"Min VP in a proposal: {min(proposals['totalVP'])}, {min(proposals['totalVP'])/total_median_vp*100}\")\n",
    "print(f\"Median VP: {statistics.median(proposals['totalVP'])}, {statistics.median(proposals['totalVP']) /total_median_vp*100}\")\n",
    "print(f\"Mean VP: {statistics.mean(proposals['totalVP'])}, {statistics.mean(proposals['totalVP'])  /total_median_vp*100}\")"
   ]
  },
  {
   "cell_type": "markdown",
   "id": "c26af125",
   "metadata": {},
   "source": [
    "## Analysis of proposal results"
   ]
  },
  {
   "cell_type": "markdown",
   "id": "297d004d",
   "metadata": {},
   "source": [
    "Number of proposals seconded, not seconded, unanimously approved, or not voted on."
   ]
  },
  {
   "cell_type": "code",
   "execution_count": null,
   "id": "22421b87",
   "metadata": {},
   "outputs": [],
   "source": [
    "secundada = 0\n",
    "nosecundada = 0\n",
    "novotos = 0\n",
    "unanimidadConAutor = 0\n",
    "unanimidadSinAutor = 0\n",
    "\n",
    "for prop_id in proposals['id']:\n",
    "    autor = list(proposals[proposals['id'] == prop_id]['author'])[0]\n",
    "\n",
    "    autor_aux = votes['voter'] == autor\n",
    "    prop_aux = votes['proposal'] == prop_id\n",
    "\n",
    "    num_votos = list(proposals[proposals['id'] == prop_id]['votes'])[0]\n",
    "    filter = votes[ np.logical_and(prop_aux , autor_aux)]['created']\n",
    "\n",
    "  #grey: no one votes\n",
    "    if num_votos == 0:\n",
    "        novotos +=1\n",
    "    #the author votes on the proposal\n",
    "    elif len(filter) > 0: \n",
    "        opt_autor = votes[ np.logical_and(prop_aux , autor_aux)]['choice'].to_list()[0]\n",
    "        win = proposals[proposals['id'] == prop_id]['scores'].to_list()[0]\n",
    "        maxi = max(win)\n",
    "        opt_winner = [x for x in range(len(win)) if win[x] == maxi][0]\n",
    "        \n",
    "\n",
    "        #green -> the winner option is the one the author voted\n",
    "        if opt_winner == opt_autor-1 :\n",
    "          secundada += 1\n",
    "\n",
    "        #red\n",
    "        else:\n",
    "          nosecundada +=1\n",
    "    else:\n",
    "        #author does not vote\n",
    "        num_opt = len(set(votes[votes['proposal']==prop_id]['choice']))\n",
    "        if num_opt == 1:\n",
    "                unanimidadSinAutor +=1\n",
    "\n",
    "print(f\"The option voted for by the author wins: {secundada}\")\n",
    "print(f\"The option voted for by the author does not win: {nosecundada}\")\n",
    "print(f\"Proposals without votes: {novotos}\")\n",
    "print(f\"Unanimous proposals: {unanimidadSinAutor + unanimidadConAutor}\")"
   ]
  },
  {
   "cell_type": "code",
   "execution_count": null,
   "id": "82abf2b9",
   "metadata": {},
   "outputs": [],
   "source": [
    "votos = []\n",
    "for prop_id in proposals['id']:\n",
    "  if num_votos != 0:\n",
    "    maxi = 0\n",
    "    total = 0\n",
    "    for key, val in dict(all_dao_info['results_per_proposals'][prop_id]).items():\n",
    "      if val > maxi:\n",
    "        maxi = val\n",
    "      total += val\n",
    "    if total == 0:\n",
    "      continue\n",
    "\n",
    "    porcentaje = maxi * 100 / total\n",
    "    votos.append(porcentaje)\n",
    "\n",
    "\n",
    "print(f\"Average votes for winning option: {statistics.mean(votos)}\")"
   ]
  },
  {
   "cell_type": "markdown",
   "id": "1709c7b2",
   "metadata": {},
   "source": [
    "Number and percentage of voters with more than 50% of the VP"
   ]
  },
  {
   "cell_type": "code",
   "execution_count": null,
   "id": "0c2cc9f8",
   "metadata": {},
   "outputs": [],
   "source": [
    "totalVP = 0\n",
    "vps = []\n",
    "\n",
    "for voter in set(votes['voter']):\n",
    "    sum_vp = votes[votes['voter']==voter]['vp'].median()\n",
    "    totalVP += sum_vp\n",
    "    vps.append(sum_vp)\n",
    "\n",
    "ordenado = sorted(vps, reverse = True)\n",
    "\n",
    "sumi = 0\n",
    "for i in range(len(ordenado)):\n",
    "    sumi += ordenado[i]\n",
    "    if sumi > totalVP/2:\n",
    "        print(\"Voters who accumulate > 50% of the DAO VP\")\n",
    "        #la i empieza en 0\n",
    "        res = i+1\n",
    "        print(res)\n",
    "        break\n",
    "\n",
    "print(\"Percentage\")\n",
    "print(res/len(ordenado)*100)"
   ]
  },
  {
   "cell_type": "markdown",
   "id": "676608a2",
   "metadata": {},
   "source": [
    "## Inequality analysis"
   ]
  },
  {
   "cell_type": "code",
   "execution_count": null,
   "id": "67e89688",
   "metadata": {},
   "outputs": [],
   "source": [
    "#gini\n",
    "# based on bottom eq: http://www.statsdirect.com/help/content/image/stat0206_wmf.gif\n",
    "# from: http://www.statsdirect.com/help/default.htm#nonparametric_methods/gini.htm\n",
    "    \n",
    "def gini(array):\n",
    "    \n",
    "    array = array.flatten() #all values are treated equally, arrays must be 1d\n",
    "    if np.amin(array) < 0:\n",
    "        array -= np.amin(array) #values cannot be negative\n",
    "    array += 1e-9 #values cannot be 0\n",
    "    array = np.sort(array) #values must\n",
    "    index = np.arange(1,array.shape[0]+1) #index per array element\n",
    "    n = array.shape[0]#number of array elements\n",
    "    return ((np.sum((2 * index - n  - 1) * array)) / (n * np.sum(array))) #Gini coefficient\n",
    "\n",
    "\n",
    "data = np.array(votes.groupby([\"voter\"])[\"vp\"].median())\n",
    "print(f\"The Gini coefficient is (groupped by voter): {gini(data):.2f}\")"
   ]
  },
  {
   "cell_type": "markdown",
   "id": "bf41b020",
   "metadata": {},
   "source": [
    "Lorenz curve to represent the cumulative distribution of VP"
   ]
  },
  {
   "cell_type": "code",
   "execution_count": null,
   "id": "a6c698b8",
   "metadata": {},
   "outputs": [],
   "source": [
    "def lorenz_curve(X):\n",
    "  X_lorenz = X.cumsum() / X.sum()\n",
    "  X_lorenz = np.insert(X_lorenz, 0, 0)\n",
    "  X_lorenz[0], X_lorenz[-1]\n",
    "\n",
    "  fig, ax = plt.subplots(figsize=[6,6])\n",
    "  ## scatter plot of Lorenz curve\n",
    "  ax.scatter(np.arange(X_lorenz.size)/(X_lorenz.size-1), X_lorenz,\n",
    "           s=80, facecolors='none', edgecolors='darkorange')\n",
    "  ## line plot of equality\n",
    "  ax.plot([0,1], [0,1], color='k')\n",
    "  plt.axhline(y=0.5, color='black', lw=0.5)\n",
    "  #plt.title(\"Lorenz curve\")\n",
    "  plt.ylabel(\"Accumulated voting power\")\n",
    "  plt.xlabel(\"Accumulated voters\")\n",
    "  plt.savefig(\"lorenz.pdf\", format=\"pdf\", bbox_inches=\"tight\")\n",
    "  plt.show()\n",
    "\n",
    "\n",
    "plt.style.use('bmh')\n",
    "X = dict(votes.groupby([\"voter\"])[\"vp\"].median())\n",
    "X = np.array(sorted(list(X.values())))\n",
    "\n",
    "print(\"Lorenz curve with VP median\")\n",
    "lorenz_curve(X)\n"
   ]
  },
  {
   "cell_type": "markdown",
   "id": "a9a7af79",
   "metadata": {},
   "source": [
    "## Vote analysis"
   ]
  },
  {
   "cell_type": "markdown",
   "id": "98451324",
   "metadata": {},
   "source": [
    "Bar chart showing voter turnout over time"
   ]
  },
  {
   "cell_type": "code",
   "execution_count": null,
   "id": "9e285565",
   "metadata": {},
   "outputs": [],
   "source": [
    "myDict = defaultdict(int)\n",
    "myDict2 = defaultdict(int)\n",
    "\n",
    "for voter in set(votes['voter']):\n",
    "  date_aux = datetime.strptime(min(votes[votes['voter'] == voter]['created']), \"%Y-%m-%d %H:%M:%S\").strftime(\"%Y-%m\")\n",
    "  myDict[date_aux] +=1\n",
    "\n",
    "acum = 0\n",
    "for date in allMonths:\n",
    "  acum += myDict[date]\n",
    "  myDict2[date]=acum\n",
    "\n",
    "fig, ax = plt.subplots()\n",
    "fig.set_size_inches(18.5, 10.5)\n",
    "ax.bar(list(myDict2.keys()), list(myDict2.values()))\n",
    "plt.xticks(range(len(DateAxis)), DateAxis)\n",
    "#plt.yticks(range(0, 66, 5))\n",
    "plt.title('Cumulative new voters')\n",
    "plt.show()\n"
   ]
  },
  {
   "cell_type": "markdown",
   "id": "80c15239",
   "metadata": {},
   "source": [
    "Scatter plot of median VP of a voter versus number of votes"
   ]
  },
  {
   "cell_type": "code",
   "execution_count": null,
   "id": "07540d08",
   "metadata": {},
   "outputs": [],
   "source": [
    "VP_median_per_voter = votes.groupby([\"voter\"])[\"vp\"].median()\n",
    "\n",
    "votes_per_voter = votes.groupby([\"voter\"])[\"id\"].count()\n",
    "\n",
    "\n",
    "plt.style.use('bmh')\n",
    "plt.scatter(VP_median_per_voter, votes_per_voter, alpha=0.25, s=75)\n",
    "plt.xlabel('Median voting power of the voter')\n",
    "plt.ylabel('Number of votes casted by a voter')\n",
    "plt.savefig(\"votesVSvp.pdf\", format=\"pdf\", bbox_inches=\"tight\")"
   ]
  },
  {
   "cell_type": "markdown",
   "id": "d25a3245",
   "metadata": {},
   "source": [
    "Scatter plot showing the percentage of votes versus the VP of the winning option for each proposal"
   ]
  },
  {
   "cell_type": "code",
   "execution_count": null,
   "id": "612d2a25",
   "metadata": {},
   "outputs": [],
   "source": [
    "myDictVotos = {}\n",
    "for prop, val in all_dao_info['results_per_proposals'].items():\n",
    "    if sum(val.values()) != 0:\n",
    "      percVotos = max(val.values())*100/sum(val.values())\n",
    "      myDictVotos[prop]=percVotos\n",
    "\n",
    "\n",
    "myDictVP = {}\n",
    "for i in range(len(all_dao_info[\"df_proposals\"])):\n",
    "    if all_dao_info[\"df_proposals\"][\"scores_total\"][i] != 0:\n",
    "      percVP = max(all_dao_info[\"df_proposals\"][\"scores\"][i])*100 / all_dao_info[\"df_proposals\"][\"scores_total\"][i]\n",
    "      myDictVP[all_dao_info[\"df_proposals\"][\"id\"][i]] = percVP\n",
    "\n",
    "\n",
    "x = []\n",
    "y = []\n",
    "\n",
    "for vp in myDictVP.items():\n",
    "  for votos in myDictVotos.items():\n",
    "    if vp[0] == votos[0]:\n",
    "      y.append(vp[1])\n",
    "      x.append(votos[1])\n",
    "\n",
    "plt.style.use('bmh')\n",
    "plt.axes().set_aspect('equal')\n",
    "plt.scatter(x, y, alpha=0.3, s=150)\n",
    "plt.xlim(0, 100)\n",
    "plt.ylim(0, 100)\n",
    "\n",
    "\n",
    "#plt.title('Percentage of votes vs voting power\\n of the winning option (for all proposals)')\n",
    "plt.xlabel('Percentage of votes')\n",
    "plt.ylabel('Percentage of voting power')\n",
    "plt.savefig(\"agreement.pdf\", format=\"pdf\", bbox_inches=\"tight\")\n",
    "plt.show()"
   ]
  }
 ],
 "metadata": {
  "kernelspec": {
   "display_name": "Python 3 (ipykernel)",
   "language": "python",
   "name": "python3"
  },
  "language_info": {
   "codemirror_mode": {
    "name": "ipython",
    "version": 3
   },
   "file_extension": ".py",
   "mimetype": "text/x-python",
   "name": "python",
   "nbconvert_exporter": "python",
   "pygments_lexer": "ipython3",
   "version": "3.11.4"
  }
 },
 "nbformat": 4,
 "nbformat_minor": 5
}
