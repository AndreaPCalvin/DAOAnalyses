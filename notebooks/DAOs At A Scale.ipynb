{
 "cells": [
  {
   "cell_type": "code",
   "execution_count": null,
   "id": "1503aee2",
   "metadata": {},
   "outputs": [],
   "source": [
    "import pandas as pd\n",
    "import numpy as np\n",
    "import statistics as st\n",
    "import scipy.stats\n",
    "import matplotlib.pyplot as plt\n",
    "from collections import Counter"
   ]
  },
  {
   "cell_type": "markdown",
   "id": "7626755e",
   "metadata": {},
   "source": [
    "## Load data"
   ]
  },
  {
   "cell_type": "code",
   "execution_count": null,
   "id": "73251221",
   "metadata": {},
   "outputs": [],
   "source": [
    "deployments = pd.read_csv('deployments.csv')\n",
    "proposals = pd.read_csv('proposals.csv', dtype={4 : 'float'})\n",
    "votes = pd.read_csv('votes.csv', dtype={5 : 'float'})"
   ]
  },
  {
   "cell_type": "markdown",
   "id": "868cb902",
   "metadata": {},
   "source": [
    "We filter to remove deployments with no proposals or voters. The initial amount of them is:"
   ]
  },
  {
   "cell_type": "code",
   "execution_count": null,
   "id": "f2b8b01d",
   "metadata": {},
   "outputs": [],
   "source": [
    "print(len(deployments), 'deployments')\n",
    "print(len(proposals), 'proposals')\n",
    "print(len(votes), 'votes')"
   ]
  },
  {
   "cell_type": "markdown",
   "id": "b43f2bc1",
   "metadata": {},
   "source": [
    "We eliminate deployments without proposals"
   ]
  },
  {
   "cell_type": "code",
   "execution_count": null,
   "id": "9f834273",
   "metadata": {},
   "outputs": [],
   "source": [
    "#Votes and proposals should not change, as we are removing deployments that do not have proposals.\n",
    "no_props = deployments[deployments['proposals_count'] == 0]['deployment_id'].to_list()\n",
    "\n",
    "deployments = deployments[~deployments['deployment_id'].isin(no_props)]\n",
    "proposals = proposals[~proposals['deployment_id'].isin(no_props)]\n",
    "votes = votes[~votes['deployment_id'].isin(no_props)]\n",
    "\n",
    "print(len(deployments), 'deployments')\n",
    "print(len(proposals), 'proposals (should not change)')\n",
    "print(len(votes), 'votes (should not change)')"
   ]
  },
  {
   "cell_type": "markdown",
   "id": "53df998d",
   "metadata": {},
   "source": [
    "We remove deployments with < 2 voters"
   ]
  },
  {
   "cell_type": "code",
   "execution_count": null,
   "id": "c883b610",
   "metadata": {},
   "outputs": [],
   "source": [
    "minVoters = 2"
   ]
  },
  {
   "cell_type": "code",
   "execution_count": null,
   "id": "87231632",
   "metadata": {},
   "outputs": [],
   "source": [
    "no_voters = deployments[deployments['unique_voters'] < minVoters]['deployment_id'].to_list()\n",
    "\n",
    "deployments = deployments[~deployments['deployment_id'].isin(no_voters)]\n",
    "proposals = proposals[~proposals['deployment_id'].isin(no_voters)]\n",
    "votes = votes[~votes['deployment_id'].isin(no_voters)]\n",
    "\n",
    "print(len(deployments), 'deployments now')\n",
    "print(len(proposals), 'proposals now')\n",
    "print(len(votes), 'votes now')"
   ]
  },
  {
   "cell_type": "markdown",
   "id": "eafbdb60",
   "metadata": {},
   "source": [
    "### Save datasets\n"
   ]
  },
  {
   "cell_type": "code",
   "execution_count": null,
   "id": "f253927e",
   "metadata": {},
   "outputs": [],
   "source": [
    "deployments.to_csv('deployments_filtered.csv', index=False)\n",
    "proposals.to_csv('proposals_filtered.csv', index=False)\n",
    "votes.to_csv('votesFinal_filtered.csv', index=False)"
   ]
  },
  {
   "cell_type": "markdown",
   "id": "92c085b5",
   "metadata": {},
   "source": [
    "# Separate and analyze DF based on size (members)"
   ]
  },
  {
   "cell_type": "code",
   "execution_count": null,
   "id": "378ee4c2",
   "metadata": {},
   "outputs": [],
   "source": [
    "#Create df based on size\n",
    "\n",
    "deployments10 = deployments[deployments['unique_voters']<=10] \n",
    "deployments100 = deployments[np.logical_and(deployments['unique_voters']<=100, deployments['unique_voters']>10)] \n",
    "deployments1k = deployments[np.logical_and(deployments['unique_voters']<=1000, deployments['unique_voters']>100)] \n",
    "deployments10k = deployments[np.logical_and(deployments['unique_voters']<=10000, deployments['unique_voters']>1000)] \n",
    "deployments100k = deployments[np.logical_and(deployments['unique_voters']<=100000, deployments['unique_voters']>10000)] \n",
    "deployments1M = deployments[np.logical_and(deployments['unique_voters']<=1000000, deployments['unique_voters']>100000)]\n",
    "deployments10M = deployments[deployments['unique_voters']>1000000] "
   ]
  },
  {
   "cell_type": "markdown",
   "id": "07f9d5b9",
   "metadata": {},
   "source": [
    "We show the total number of deployments for each size."
   ]
  },
  {
   "cell_type": "code",
   "execution_count": null,
   "id": "8eda1740",
   "metadata": {},
   "outputs": [],
   "source": [
    "platform = deployments.groupby('platform')['deployment_id'].count()\n",
    "# platform = deployments10.groupby('platform')['deployment_id'].count()\n",
    "# platform = deployments100.groupby('platform')['deployment_id'].count()\n",
    "# platform = deployments1k.groupby('platform')['deployment_id'].count()\n",
    "# platform = deployments10k.groupby('platform')['deployment_id'].count()\n",
    "# platform = deployments100k.groupby('platform')['deployment_id'].count()\n",
    "# platform = deployments1M.groupby('platform')['deployment_id'].count()\n",
    "# platform = deployments10M.groupby('platform')['deployment_id'].count()\n",
    "\n",
    "print(platform)\n",
    "print('Total deployments', platform.sum())"
   ]
  },
  {
   "cell_type": "markdown",
   "id": "5b139201",
   "metadata": {},
   "source": [
    "We show voters by platform"
   ]
  },
  {
   "cell_type": "code",
   "execution_count": null,
   "id": "b5415bfe",
   "metadata": {},
   "outputs": [],
   "source": [
    "votantes = deployments.groupby('platform')['unique_voters']\n",
    "\n",
    "print('Total ', votantes.sum())\n",
    "print('------------------------')\n",
    "print('Min', votantes.min())\n",
    "print('------------------------')\n",
    "print('Max', votantes.max())\n",
    "print('------------------------')\n",
    "print('Mean', votantes.mean())\n",
    "print('------------------------')\n",
    "print('Median', votantes.median())"
   ]
  },
  {
   "cell_type": "markdown",
   "id": "9a5af4e2",
   "metadata": {},
   "source": [
    "Unique voters by deployment"
   ]
  },
  {
   "cell_type": "code",
   "execution_count": null,
   "id": "3c520747",
   "metadata": {},
   "outputs": [],
   "source": [
    "for data in [(\"total\", deployments), (\"10\", deployments10), (\"100\", deployments100), (\"1k\", deployments1k), (\"10k\", deployments10k), (\"100k\", deployments100k), (\"1M\", deployments1M), (\"10M\", deployments10M)]:\n",
    "    print('----- Size analysis:', data[0], '-----')\n",
    "    print('The min is:', min(data[1]['unique_voters']))\n",
    "    print('The mean is:', data[1]['unique_voters'].mean())\n",
    "    print('The median is:', data[1]['unique_voters'].median())\n",
    "    print('The max is:', max(data[1]['unique_voters']))\n",
    "    print('------------------------')"
   ]
  },
  {
   "cell_type": "markdown",
   "id": "a1bd94d6",
   "metadata": {},
   "source": [
    "Count of proposals"
   ]
  },
  {
   "cell_type": "code",
   "execution_count": null,
   "id": "df923441",
   "metadata": {},
   "outputs": [],
   "source": [
    "for data in [(\"total\", deployments), (\"10\", deployments10), (\"100\", deployments100), (\"1k\", deployments1k), (\"10k\", deployments10k), (\"100k\", deployments100k), (\"1M\", deployments1M), (\"10M\", deployments10M)]:\n",
    "    print('----- Size analysis:', data[0], '-----')\n",
    "    print('The min is:', min(data[1]['proposals_count']))\n",
    "    print('The mean is:', data[1]['proposals_count'].mean())\n",
    "    print('The median is:', data[1]['proposals_count'].median())\n",
    "    print('The max is:', max(data[1]['proposals_count']))\n",
    "    print('------------------------')"
   ]
  },
  {
   "cell_type": "markdown",
   "id": "d9718b46",
   "metadata": {},
   "source": [
    "Total number of votes"
   ]
  },
  {
   "cell_type": "code",
   "execution_count": null,
   "id": "a7bd4ae1",
   "metadata": {},
   "outputs": [],
   "source": [
    "for data in [(\"total\", deployments), (\"10\", deployments10), (\"100\", deployments100), (\"1k\", deployments1k), (\"10k\", deployments10k), (\"100k\", deployments100k), (\"1M\", deployments1M), (\"10M\", deployments10M)]:\n",
    "    print('----- Size analysis:', data[0], '-----')\n",
    "    print('The min is:', min(data[1]['votes_count']))\n",
    "    print('The mean is:', data[1]['votes_count'].mean())\n",
    "    print('The median is:', data[1]['votes_count'].median())\n",
    "    print('The max is:', max(data[1]['votes_count']))\n",
    "    print('------------------------')"
   ]
  },
  {
   "cell_type": "markdown",
   "id": "a9e4e07f",
   "metadata": {},
   "source": [
    "# Proposals a voter participates in\n",
    "Votes per voter as a percentage of total proposals\n",
    "E.g., a voter votes on average on 15% of DAO proposals\n",
    "\n",
    "Calculation:\n",
    "1) Calculate the average within the community\n",
    "2) Calculate the average of averages"
   ]
  },
  {
   "cell_type": "code",
   "execution_count": null,
   "id": "812855a9",
   "metadata": {},
   "outputs": [],
   "source": [
    "votos = votes.groupby(['deployment_id', 'voter'])['vote_id'].count()"
   ]
  },
  {
   "cell_type": "code",
   "execution_count": null,
   "id": "9c54feab",
   "metadata": {},
   "outputs": [],
   "source": [
    "# Change to use other desployment group\n",
    "ids = deployments100k['deployment_id'] "
   ]
  },
  {
   "cell_type": "code",
   "execution_count": null,
   "id": "72be0a5f",
   "metadata": {},
   "outputs": [],
   "source": [
    "avgVotesByVoter = []\n",
    "\n",
    "for deployment in ids:\n",
    "    num_props = int(deployments[deployments['deployment_id']==deployment]['proposals_count'])    \n",
    "    a = votos[deployment].mean() / num_props * 100\n",
    "    avgVotesByVoter.append(a)  \n",
    "\n",
    "print('The minimum is', min(avgVotesByVoter), '% props per voter')       \n",
    "print('The mean is', st.mean(avgVotesByVoter), '% props per voter')\n",
    "print('The median is', st.median(avgVotesByVoter), '% props per voter')\n",
    "print('The maximum is', max(avgVotesByVoter), '% props per voter')"
   ]
  },
  {
   "cell_type": "markdown",
   "id": "464f0880",
   "metadata": {},
   "source": [
    "# Votes per proposal / Voter turnout"
   ]
  },
  {
   "cell_type": "code",
   "execution_count": null,
   "id": "1854be0c",
   "metadata": {},
   "outputs": [],
   "source": [
    "# Change to use other desployment group\n",
    "deployment_group = deployments10M "
   ]
  },
  {
   "cell_type": "code",
   "execution_count": null,
   "id": "eafd84d2",
   "metadata": {},
   "outputs": [],
   "source": [
    "i=0\n",
    "votosPorPropuesta = []\n",
    "\n",
    "props = proposals[proposals['deployment_id'].isin(set(deployment_group['deployment_id']))]['proposal_id']\n",
    "\n",
    "                                                \n",
    "for proposal in props:\n",
    "    num_votos = int(proposals[proposals['proposal_id']==proposal]['votes_count'])\n",
    "    dep_id = proposals[proposals['proposal_id']==proposal]['deployment_id'].to_list()[0]\n",
    "    votantes = int(deployments[deployments['deployment_id']==dep_id]['unique_voters'])\n",
    "    votosPorPropuesta.append(num_votos / votantes * 100) \n",
    "\n",
    "       \n",
    "#Calculate min, max, median, mean of votes per proposal\n",
    "print('The minimum is', min(votosPorPropuesta), '% votes per prop')\n",
    "print('The mean is', st.mean(votosPorPropuesta), '% votes per prop')\n",
    "print('The median is', st.median(votosPorPropuesta), '% votes per prop')\n",
    "print('The maximum is', max(votosPorPropuesta), '% votes per prop')"
   ]
  },
  {
   "cell_type": "markdown",
   "id": "76e4ef3b",
   "metadata": {},
   "source": [
    "### VP per proposal"
   ]
  },
  {
   "cell_type": "code",
   "execution_count": null,
   "id": "545ce96c",
   "metadata": {},
   "outputs": [],
   "source": [
    "#vp by proposal\n",
    "#percentages\n",
    "join = proposals.merge(deployments, how='inner', on='deployment_id')\n",
    "join['estimated_vp'] = join['estimated_vp'].astype(float)\n",
    "\n",
    "\n",
    "#remove all rows containing nan\n",
    "print(len(join))\n",
    "join = join.dropna(subset=['estimated_vp'])\n",
    "join = join.dropna(subset=['totalVP'])\n",
    "print(len(join))\n",
    "\n",
    "#remove estimated_vp that are 0\n",
    "join = join[join['estimated_vp']>0]\n",
    "\n",
    "vpPorPropuesta = (join['totalVP'] / join['estimated_vp'] * 100).to_list()\n",
    "\n",
    "print('The mean is', st.mean(vpPorPropuesta))\n",
    "print('The median is', st.median(vpPorPropuesta))\n",
    "print('The min is', min(vpPorPropuesta))\n",
    "print('The max is', max(vpPorPropuesta))"
   ]
  },
  {
   "cell_type": "markdown",
   "id": "83f2ed1f",
   "metadata": {},
   "source": [
    "# Median VP per voter and deployment "
   ]
  },
  {
   "cell_type": "code",
   "execution_count": null,
   "id": "5d7429ea",
   "metadata": {},
   "outputs": [],
   "source": [
    "# Change to use other desployment group\n",
    "deployment_group = deployments10M "
   ]
  },
  {
   "cell_type": "code",
   "execution_count": null,
   "id": "4bb11a30",
   "metadata": {},
   "outputs": [],
   "source": [
    "unionVotosDep = votes.merge(deployment_group, how='inner', on='deployment_id')\n",
    "\n",
    "#unionVotosDep = unionVotosDep[['id', 'deployment_id', 'voter', 'weight', 'estimated_vp']]\n",
    "\n",
    "#Remove all rows containing 'nan' (after cleaning, none)\n",
    "unionVotosDep = unionVotosDep.dropna(subset=['estimated_vp'])\n",
    "unionVotosDep = unionVotosDep.dropna(subset=['weight'])\n",
    "#Remove estimatedVP = 0\n",
    "unionVotosDep['estimated_vp'] = unionVotosDep['estimated_vp'].apply(lambda x: 0.000000000000001 if x<=0 else x)\n",
    "\n",
    "VP_Votante = unionVotosDep.groupby(['deployment_id', 'voter', 'estimated_vp'])['weight'].agg(median='median').reset_index()\n",
    "VP_Votante['porc'] = VP_Votante['median'] / VP_Votante['estimated_vp'] * 100\n",
    "\n",
    "print('The min is', min(VP_Votante['porc']), '% vp per voter')\n",
    "print('The mean is', st.mean(VP_Votante['porc']), '% vp per voter')\n",
    "print('The median is', st.median(VP_Votante['porc']), '% vp per voter')\n",
    "print('The max is', max(VP_Votante['porc']), '% vp per voter')"
   ]
  },
  {
   "cell_type": "markdown",
   "id": "3d333dd5",
   "metadata": {},
   "source": [
    "# Gini -> Inequality of effective VP distribution"
   ]
  },
  {
   "cell_type": "code",
   "execution_count": null,
   "id": "6ff94223",
   "metadata": {},
   "outputs": [],
   "source": [
    "#gini \n",
    "\n",
    "def gini(array):\n",
    "    \"\"\"Calculate the Gini coefficient of a numpy array.\"\"\"\n",
    "    # based on bottom eq: http://www.statsdirect.com/help/content/image/stat0206_wmf.gif\n",
    "    # from: http://www.statsdirect.com/help/default.htm#nonparametric_methods/gini.htm\n",
    "    array = array.flatten() #all values are treated equally, arrays must be 1d\n",
    "    if np.amin(array) < 0:\n",
    "        array -= np.amin(array) #values cannot be negative\n",
    "    array += 1e-9 #values cannot be 0\n",
    "    array = np.sort(array) #values must\n",
    "    index = np.arange(1,array.shape[0]+1) #index per array element\n",
    "    n = array.shape[0]#number of array elements\n",
    "    return ((np.sum((2 * index - n  - 1) * array)) / (n * np.sum(array))) #Gini coefficient"
   ]
  },
  {
   "cell_type": "code",
   "execution_count": null,
   "id": "921d4c65",
   "metadata": {},
   "outputs": [],
   "source": [
    "VP_voter_dep = votes.groupby([\"deployment_id\", \"voter\"])['weight'].agg(median='median').reset_index()\n",
    "\n",
    "ginis = VP_voter_dep.groupby('deployment_id', group_keys=True).apply(lambda x: gini(np.array(x['median'] ))).reset_index(name='gini')\n",
    "\n",
    "#Negative Ginis by approximation. We replace them with 0.\n",
    "ginis['gini'] = ginis['gini'].apply(lambda x: 0 if x<0 else x)\n",
    "\n",
    "print('The mean is', st.mean(ginis['gini']))\n",
    "print('The median is', st.median(ginis['gini']))\n",
    "print('The min is', min(ginis['gini']))\n",
    "print('The max is', max(ginis['gini']))\n"
   ]
  },
  {
   "cell_type": "code",
   "execution_count": null,
   "id": "303c61f6",
   "metadata": {},
   "outputs": [],
   "source": [
    "#Filtering by size\n",
    "\n",
    "#Change to use other desployment group\n",
    "deployment_group = deployments10M "
   ]
  },
  {
   "cell_type": "code",
   "execution_count": null,
   "id": "42c42249",
   "metadata": {},
   "outputs": [],
   "source": [
    "#Filtering\n",
    "votos_deps = votes[votes['deployment_id'].isin(deployment_group['deployment_id'])]\n",
    "\n",
    "VP_voter_dep = votos_deps.groupby([\"deployment_id\", \"voter\"])['weight'].agg(median='median').reset_index()\n",
    "\n",
    "ginis = VP_voter_dep.groupby('deployment_id', group_keys=True).apply(lambda x: gini(np.array(x['median'] ))).reset_index(name='gini')\n",
    "\n",
    "ginis['gini'] = ginis['gini'].apply(lambda x: 0 if x<0 else x)\n",
    "\n",
    "print('The mean is', st.mean(ginis['gini']))\n",
    "print('The median is', st.median(ginis['gini']))\n",
    "print('The min is', min(ginis['gini']))\n",
    "print('The max is', max(ginis['gini']))"
   ]
  },
  {
   "cell_type": "markdown",
   "id": "d9cefcb9",
   "metadata": {},
   "source": [
    "### Voters who accumulate together more than 50% of the voting power for each deployment"
   ]
  },
  {
   "cell_type": "code",
   "execution_count": null,
   "id": "c5189b63",
   "metadata": {},
   "outputs": [],
   "source": [
    "power = votes.groupby([\"deployment_id\", \"voter\"])['weight'].agg(median='median').reset_index().sort_values([\"deployment_id\", \"median\"],ascending=False)\n",
    "power\n"
   ]
  },
  {
   "cell_type": "code",
   "execution_count": null,
   "id": "184e4d52",
   "metadata": {},
   "outputs": [],
   "source": [
    "# Change to use other desployment group\n",
    "deployment_group = deployments10M "
   ]
  },
  {
   "cell_type": "code",
   "execution_count": null,
   "id": "31231509",
   "metadata": {},
   "outputs": [],
   "source": [
    "result2 = []\n",
    "dict_res2 = {}\n",
    "\n",
    "for dep in deployment_group['deployment_id']:\n",
    "\n",
    "    depVP = deployments[deployments['deployment_id'] == dep]['estimated_vp'].to_list()[0]\n",
    "    if depVP == 0:\n",
    "        dict_res2[dep] = None\n",
    "        continue\n",
    "    acum = np.cumsum(np.array(power[power['deployment_id']==dep]['median']))\n",
    "    acum = acum[acum <= depVP/2]\n",
    "    r = len(acum) + 1\n",
    "    voters = int(deployments[deployments['deployment_id'] == dep]['unique_voters'])\n",
    "    total = r / voters * 100\n",
    "    result2.append(total) \n",
    "    dict_res2[dep] = total\n",
    "    \n",
    "print('The mean is', st.mean(result2))\n",
    "print('The median is', st.median(result2))\n",
    "print('The min is', min(result2))\n",
    "print('The max is', max(result2))"
   ]
  },
  {
   "cell_type": "code",
   "execution_count": null,
   "id": "59006a26",
   "metadata": {},
   "outputs": [],
   "source": [
    "#with >=50% instead of >50%\n",
    "\n",
    "result2 = []\n",
    "dict_res2 = {}\n",
    "\n",
    "for dep in deployment_group['deployment_id']:\n",
    "    depVP = deployments[deployments['deployment_id'] == dep]['estimated_vp'].to_list()[0]\n",
    "    if depVP == 0:\n",
    "        dict_res2[dep] = None\n",
    "        continue\n",
    "    acum = np.cumsum(np.array(power[power['deployment_id']==dep]['median']))\n",
    "    acum = acum[acum < depVP/2]\n",
    "    r = len(acum) + 1\n",
    "    voters = int(deployments[deployments['deployment_id'] == dep]['unique_voters'])\n",
    "    total = r / voters * 100\n",
    "    result2.append(total) \n",
    "    dict_res2[dep] = total\n",
    "\n",
    "print('The mean is', st.mean(result2))\n",
    "print('The median is', st.median(result2))\n",
    "print('The min is', min(result2))\n",
    "print('The max is', max(result2))"
   ]
  },
  {
   "cell_type": "markdown",
   "id": "f50cc417",
   "metadata": {},
   "source": [
    "# Age of deployments"
   ]
  },
  {
   "cell_type": "code",
   "execution_count": null,
   "id": "32152b06",
   "metadata": {},
   "outputs": [],
   "source": [
    "from datetime import datetime\n",
    "\n",
    "#group the proposals by deployment\n",
    "deps = proposals.groupby('deployment_id')['date'].agg(['min','max'])\n",
    "deps['min'] = deps['min'].apply(lambda x: datetime.strptime(x, '%Y-%m-%d %H:%M:%S'))\n",
    "deps['max'] = deps['max'].apply(lambda x: datetime.strptime(x, '%Y-%m-%d %H:%M:%S'))\n",
    "deps['age'] = deps['max']-deps['min']\n",
    "\n",
    "deployments = deployments.merge(deps, on='deployment_id', how='inner')"
   ]
  },
  {
   "cell_type": "markdown",
   "id": "5764e01a",
   "metadata": {},
   "source": [
    "Observe if the last vote is more than 3 months old and more than 6 months old since the data retrieval date."
   ]
  },
  {
   "cell_type": "code",
   "execution_count": null,
   "id": "075a93d6",
   "metadata": {},
   "outputs": [],
   "source": [
    "#step 1: create the date of retrieval\n",
    "date_str = \"9 August 2023\"\n",
    "captura = datetime.strptime(date_str, \"%d %B %Y\")\n",
    "\n",
    "print(captura)\n",
    "\n",
    "#step 2: for every deployment, captura date - max date\n",
    "df = pd.DataFrame(deployments)\n",
    "#df['vivas'] = (captura - deployments['max']).dt.days\n",
    "df['alive'] = ((captura - deployments['max']) / pd.Timedelta(days=30.44)).astype(int)\n",
    "\n",
    "print(df.tail())\n",
    "\n",
    "print(\"Alive in the last 3 months\")\n",
    "df3 = df[df['alive']<=3]\n",
    "df3 = df3.groupby('platform').count()\n",
    "print(df3)\n",
    "\n",
    "print(\"Alive in the last 6 months\")\n",
    "df6 = df[df['alive']<=6]\n",
    "df6 = df6.groupby('platform').count()\n",
    "print(df6)\n"
   ]
  },
  {
   "cell_type": "markdown",
   "id": "6922662a",
   "metadata": {},
   "source": [
    "Create new column in dataset to know how much time has passed since the last vote and the retrieval date"
   ]
  },
  {
   "cell_type": "code",
   "execution_count": null,
   "id": "5a179e36",
   "metadata": {},
   "outputs": [],
   "source": [
    "from datetime import datetime\n",
    "\n",
    "date_str = \"9 August 2023\"\n",
    "captura = datetime.strptime(date_str, \"%d %B %Y\")\n",
    "\n",
    "df = pd.DataFrame(deployments)\n",
    "df['tiempo_sin_actividad'] = ((captura - deployments['max']) / pd.Timedelta(days=30.44)).astype(int)"
   ]
  },
  {
   "cell_type": "markdown",
   "id": "701e1ecc",
   "metadata": {},
   "source": [
    "The following are with no proposals in the last 6 months"
   ]
  },
  {
   "cell_type": "code",
   "execution_count": null,
   "id": "0da838c4",
   "metadata": {},
   "outputs": [],
   "source": [
    "print('<=10')\n",
    "deps = df[df['deployment_id'].isin(deployments10['deployment_id'])]\n",
    "print((deps['tiempo_sin_actividad']>6).sum(),',', (deps['tiempo_sin_actividad']>6).sum()/len(deps)*100, '%')\n",
    "print('----------------')\n",
    "\n",
    "print('<=100')\n",
    "deps = df[df['deployment_id'].isin(deployments100['deployment_id'])]\n",
    "print((deps['tiempo_sin_actividad']>6).sum(),',', (deps['tiempo_sin_actividad']>6).sum()/len(deps)*100, '%')\n",
    "print('----------------')\n",
    "\n",
    "print('<=1k')\n",
    "deps = df[df['deployment_id'].isin(deployments1k['deployment_id'])]\n",
    "print((deps['tiempo_sin_actividad']>6).sum(),',', (deps['tiempo_sin_actividad']>6).sum()/len(deps)*100, '%')\n",
    "print('----------------')\n",
    "\n",
    "print('<=10k')\n",
    "deps = df[df['deployment_id'].isin(deployments10k['deployment_id'])]\n",
    "print((deps['tiempo_sin_actividad']>6).sum(),',', (deps['tiempo_sin_actividad']>6).sum()/len(deps)*100, '%')\n",
    "print('----------------')\n",
    "\n",
    "print('<=100k')\n",
    "deps = df[df['deployment_id'].isin(deployments100k['deployment_id'])]\n",
    "print((deps['tiempo_sin_actividad']>6).sum(),',', (deps['tiempo_sin_actividad']>6).sum()/len(deps)*100, '%')\n",
    "print('----------------')\n",
    "\n",
    "print('<=1m')\n",
    "deps = df[df['deployment_id'].isin(deployments1M['deployment_id'])]\n",
    "print((deps['tiempo_sin_actividad']>6).sum(),',', (deps['tiempo_sin_actividad']>6).sum()/len(deps)*100, '%')\n",
    "print('----------------')\n",
    "\n",
    "print('<=10m')\n",
    "deps = df[df['deployment_id'].isin(deployments10M['deployment_id'])]\n",
    "print((deps['tiempo_sin_actividad']>6).sum(),',', (deps['tiempo_sin_actividad']>6).sum()/len(deps)*100, '%')\n",
    "print('----------------')"
   ]
  },
  {
   "cell_type": "markdown",
   "id": "8d775c83",
   "metadata": {},
   "source": [
    "Number of DAOs according its activity in the last 6 months"
   ]
  },
  {
   "cell_type": "code",
   "execution_count": null,
   "id": "e0d19cac",
   "metadata": {},
   "outputs": [],
   "source": [
    "activeDAOs = deployments[deployments['tiempo_sin_actividad']<=6]\n",
    "nonActiveDAOs = deployments[deployments['tiempo_sin_actividad']>6]\n",
    "print(len(deployments))\n",
    "print(len(activeDAOs))\n",
    "print(len(nonActiveDAOs))"
   ]
  },
  {
   "cell_type": "markdown",
   "id": "ab2ec94d",
   "metadata": {},
   "source": [
    "Oldest and newest deployment"
   ]
  },
  {
   "cell_type": "code",
   "execution_count": null,
   "id": "e6428815",
   "metadata": {},
   "outputs": [],
   "source": [
    "print(min(deployments['edad']))\n",
    "print(max(deployments['edad']))"
   ]
  },
  {
   "cell_type": "markdown",
   "id": "0c670716",
   "metadata": {},
   "source": [
    "Minimum, average, median, and maximum age data for each DAO platform"
   ]
  },
  {
   "cell_type": "code",
   "execution_count": null,
   "id": "424d029f",
   "metadata": {},
   "outputs": [],
   "source": [
    "print('aragon')\n",
    "print(min(deployments[deployments['platform']=='aragon']['edad']))\n",
    "print(deployments[deployments['platform']=='aragon']['edad'].mean())\n",
    "print(deployments[deployments['platform']=='aragon']['edad'].median())\n",
    "print(max(deployments[deployments['platform']=='aragon']['edad']))\n",
    "print('----------------')\n",
    "\n",
    "print('daohaus')\n",
    "print(min(deployments[deployments['platform']=='daohaus']['edad']))\n",
    "print(deployments[deployments['platform']=='daohaus']['edad'].mean())\n",
    "print(deployments[deployments['platform']=='daohaus']['edad'].median())\n",
    "print(max(deployments[deployments['platform']=='daohaus']['edad']))\n",
    "print('----------------')\n",
    "\n",
    "print('daostack')\n",
    "print(min(deployments[deployments['platform']=='daostack']['edad']))\n",
    "print(deployments[deployments['platform']=='daostack']['edad'].mean())\n",
    "print(deployments[deployments['platform']=='daostack']['edad'].median())\n",
    "print(max(deployments[deployments['platform']=='daostack']['edad']))\n",
    "print('----------------')\n",
    "\n",
    "print('governor')\n",
    "print(min(deployments[deployments['platform']=='governor']['edad']))\n",
    "print(deployments[deployments['platform']=='governor']['edad'].mean())\n",
    "print(deployments[deployments['platform']=='governor']['edad'].median())\n",
    "print(max(deployments[deployments['platform']=='governor']['edad']))\n",
    "print('----------------')\n",
    "\n",
    "print('realms')\n",
    "print(min(deployments[deployments['platform']=='realms']['edad']))\n",
    "print(deployments[deployments['platform']=='realms']['edad'].mean())\n",
    "print(deployments[deployments['platform']=='realms']['edad'].median())\n",
    "print(max(deployments[deployments['platform']=='realms']['edad']))\n",
    "print('----------------')\n",
    "\n",
    "print('snapshot')\n",
    "print(min(deployments[deployments['platform']=='snapshot']['edad']))\n",
    "print(deployments[deployments['platform']=='snapshot']['edad'].mean())\n",
    "print(deployments[deployments['platform']=='snapshot']['edad'].median())\n",
    "print(max(deployments[deployments['platform']=='snapshot']['edad']))\n",
    "print('----------------')\n",
    "\n",
    "print('tally')\n",
    "print(min(deployments[deployments['platform']=='tally']['edad']))\n",
    "print(deployments[deployments['platform']=='tally']['edad'].mean())\n",
    "print(deployments[deployments['platform']=='tally']['edad'].median())\n",
    "print(max(deployments[deployments['platform']=='tally']['edad']))\n"
   ]
  },
  {
   "cell_type": "markdown",
   "id": "92e21468",
   "metadata": {},
   "source": [
    "Metric by deployments size."
   ]
  },
  {
   "cell_type": "code",
   "execution_count": null,
   "id": "a64a57f4",
   "metadata": {},
   "outputs": [],
   "source": [
    "# Change to use other desployment group\n",
    "\n",
    "print('<=10')\n",
    "print(min(deployments10['edad']))\n",
    "print(deployments10['edad'].mean())\n",
    "print(deployments10['edad'].median())\n",
    "print(max(deployments10['edad']))\n"
   ]
  }
 ],
 "metadata": {
  "kernelspec": {
   "display_name": "Python 3 (ipykernel)",
   "language": "python",
   "name": "python3"
  },
  "language_info": {
   "codemirror_mode": {
    "name": "ipython",
    "version": 3
   },
   "file_extension": ".py",
   "mimetype": "text/x-python",
   "name": "python",
   "nbconvert_exporter": "python",
   "pygments_lexer": "ipython3",
   "version": "3.11.4"
  }
 },
 "nbformat": 4,
 "nbformat_minor": 5
}
