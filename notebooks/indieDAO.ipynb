{
 "cells": [
  {
   "cell_type": "markdown",
   "id": "ee360aee",
   "metadata": {},
   "source": [
    "# Analysis of IndieDAO"
   ]
  },
  {
   "cell_type": "code",
   "execution_count": null,
   "id": "8a562217",
   "metadata": {},
   "outputs": [],
   "source": [
    "import pandas as pd\n",
    "import numpy as np\n",
    "import matplotlib.pyplot as plt\n",
    "import statistics\n",
    "import ast\n",
    "import requests"
   ]
  },
  {
   "cell_type": "markdown",
   "id": "c026a4a8",
   "metadata": {},
   "source": [
    "### DAO queries and data retrieval "
   ]
  },
  {
   "cell_type": "code",
   "execution_count": null,
   "id": "7072d847",
   "metadata": {},
   "outputs": [],
   "source": [
    "# Production hub\n",
    "URL = \"https://hub.snapshot.org/graphql\"\n",
    "# \"id\" of the Snapshot space, i.e. IndieDAO space\n",
    "DAO = \"indiedao.eth\""
   ]
  },
  {
   "cell_type": "markdown",
   "id": "e0396d50",
   "metadata": {},
   "source": [
    "Save proposals information"
   ]
  },
  {
   "cell_type": "code",
   "execution_count": null,
   "id": "abc4c8fc",
   "metadata": {},
   "outputs": [],
   "source": [
    "def get_all_proposals(dao, date):\n",
    "  QUERY_VOTES = f\"\"\"query Proposals {{\n",
    "  proposals(\n",
    "    where: {{space_in: \"{dao}\", created_gt: {date}}},\n",
    "    first: 1000,\n",
    "    orderBy: \"created\",\n",
    "    orderDirection: asc\n",
    "  ) {{\n",
    "    id\n",
    "    created\n",
    "    title\n",
    "    votes\n",
    "    type\n",
    "    state\n",
    "    author\n",
    "    scores\n",
    "    scores_total\n",
    "    choices\n",
    "    end\n",
    "  }}\n",
    "}}\n",
    "\"\"\"\n",
    "  return QUERY_VOTES\n",
    "\n",
    "def set_all_proposals_info(dao):\n",
    "  date = 0\n",
    "  list_dic_proposals = []\n",
    "  while True:\n",
    "    props = requests.post(URL, json={'query': get_all_proposals(dao, date)}).json()[\"data\"][\"proposals\"]\n",
    "\n",
    "    list_dic_proposals += props\n",
    "    date = max(list(map(lambda x: x[\"created\"], props)))\n",
    "\n",
    "    if len(props) < 1000:\n",
    "      break\n",
    "\n",
    "  df_proposals = pd.DataFrame.from_dict(list_dic_proposals, orient='columns')\n",
    "  df_proposals['created'] = pd.to_datetime(df_proposals['created'], unit='s')\n",
    "  df_proposals['end'] = pd.to_datetime(df_proposals['end'], unit='s')\n",
    "  df_proposals['author'] = df_proposals['author'].str.lower()\n",
    "\n",
    "  return df_proposals\n",
    "\n",
    "\n",
    "df_proposals = set_all_proposals_info(DAO)\n",
    "df_proposals.to_csv(\"proposals.csv\")\n",
    "print(len(df_proposals[\"id\"]), \"proposals read\")"
   ]
  },
  {
   "cell_type": "markdown",
   "id": "1b67fe54",
   "metadata": {},
   "source": [
    "Save the voting information"
   ]
  },
  {
   "cell_type": "code",
   "execution_count": null,
   "id": "453bbf5c",
   "metadata": {},
   "outputs": [],
   "source": [
    "def get_all_votes(dao, date):\n",
    "  QUERY_VOTES = f\"\"\"query Votes {{\n",
    "    votes(\n",
    "      where: {{space_in: \"{dao}\", created_gt: {date} }},\n",
    "      first: 1000,\n",
    "      orderBy: \"created\",\n",
    "      orderDirection: asc\n",
    "    ) {{\n",
    "      id\n",
    "      created\n",
    "      voter\n",
    "      vp\n",
    "      choice\n",
    "      proposal {{\n",
    "          id\n",
    "          title\n",
    "      }}\n",
    "    }}\n",
    "  }}\n",
    "  \"\"\"\n",
    "  return QUERY_VOTES\n",
    "\n",
    "def set_votes_info(dao):\n",
    "  date = 0\n",
    "  list_dict_results = []\n",
    "  while True:\n",
    "\n",
    "    votes = requests.post(URL, json={'query': get_all_votes(dao, date)}).json()[\"data\"][\"votes\"]\n",
    "    list_dict_results += votes\n",
    "    date = max(list(map(lambda x: x[\"created\"], votes)))\n",
    "\n",
    "    if len(votes) < 1000:\n",
    "      break\n",
    "\n",
    "  df_votes = pd.DataFrame.from_dict(list_dict_results, orient='columns')\n",
    "  df_votes['created'] = pd.to_datetime(df_votes['created'], unit='s')\n",
    "  df_votes['voter'] = df_votes['voter'].str.lower()\n",
    "  df_votes[\"choice\"] = df_votes[\"choice\"].apply(lambda val: val[0] if (type(val) == list) else val)\n",
    "  return df_votes\n",
    "\n",
    "\n",
    "df_votes = set_votes_info(DAO)\n",
    "df_votes.to_csv(\"votes.csv\")\n",
    "print(len(df_votes[\"id\"]), \"votes read\")"
   ]
  },
  {
   "cell_type": "markdown",
   "id": "38dedb29",
   "metadata": {},
   "source": [
    "Load the files with the DAO proposal and voting information."
   ]
  },
  {
   "cell_type": "code",
   "execution_count": null,
   "id": "46133679",
   "metadata": {},
   "outputs": [],
   "source": [
    "proposals = pd.read_csv('proposals.csv')\n",
    "votes = pd.read_csv('votes.csv')"
   ]
  },
  {
   "cell_type": "markdown",
   "id": "78fa5d80",
   "metadata": {},
   "source": [
    "Data cleaning."
   ]
  },
  {
   "cell_type": "code",
   "execution_count": null,
   "id": "10eb5984",
   "metadata": {},
   "outputs": [],
   "source": [
    "# Assuming votes['proposal'] is a list of strings that look like dictionaries\n",
    "proposal_list = votes['proposal']\n",
    "\n",
    "# Convert each string in the list to a dictionary\n",
    "proposal_dicts = [ast.literal_eval(proposal_str) for proposal_str in proposal_list]\n",
    "\n",
    "# 'id' of each proposal\n",
    "proposal_ids = [proposal_dict['id'] for proposal_dict in proposal_dicts]\n",
    "\n",
    "# 'title' of each proposal\n",
    "proposal_titles = [proposal_dict['title'] for proposal_dict in proposal_dicts]\n",
    "votes['prop_id'] = proposal_ids\n",
    "votes['prop_title'] = proposal_titles\n",
    "#votes.drop('proposal', axis=1, inplace=True)\n",
    "\n",
    "# Lowercase all data\n",
    "votes['id'] = votes['id'].str.lower()\n",
    "votes['voter'] = votes['voter'].str.lower()\n",
    "votes['prop_id'] = votes['prop_id'].str.lower()\n",
    "\n",
    "proposals['id'] = proposals['id'].str.lower()\n",
    "proposals['author'] = proposals['author'].str.lower()\n",
    "\n",
    "# Time period to be studied\n",
    "ini = min(votes[\"created\"])\n",
    "fin = max(votes[\"created\"])\n",
    "allMonths = pd.date_range(start=ini, end=fin, freq=pd.DateOffset(months=1)).strftime(\"%Y-%m\")\n",
    "allMonthsNew = pd.date_range(start=ini, end=fin, freq=pd.DateOffset(months=1)).strftime(\"%Y-%b\")\n",
    "\n",
    "# Auxiliary structure used to display graphics in a more aesthetic way\n",
    "DateAxis = []\n",
    "for k in allMonthsNew:\n",
    "  sp = k.split(\"-\")\n",
    "  if sp[1] != \"Jan\":\n",
    "    DateAxis.append(sp[1])\n",
    "  else:\n",
    "    DateAxis.append(sp[1]+\"\\n\"+sp[0])\n"
   ]
  },
  {
   "cell_type": "markdown",
   "id": "9e0823b6",
   "metadata": {},
   "source": [
    "Sort proposals by creation date to review them in order"
   ]
  },
  {
   "cell_type": "code",
   "execution_count": null,
   "id": "bef54401",
   "metadata": {},
   "outputs": [],
   "source": [
    "auxTuple = zip(proposals['id'], proposals['created'])\n",
    "SortedPropsIDs = sorted(auxTuple, key=lambda date : date[1])"
   ]
  },
  {
   "cell_type": "markdown",
   "id": "c02f4ab5",
   "metadata": {},
   "source": [
    "Some voters had to transition from one account to another (see the corresponding publication)\n",
    "Thus, the addresses are unified:\n",
    "\n",
    "- 0x7D4F0B2d660aa625B7aA7C6B72a7c0C884cab883 Old ID\n",
    "- 0x62F77E12B8835f13ec37Fc7a9763A7efB87B6615 New ID"
   ]
  },
  {
   "cell_type": "code",
   "execution_count": null,
   "id": "d5f646ec",
   "metadata": {},
   "outputs": [],
   "source": [
    "votes['voter'] = votes['voter'].replace({\"0x7d4f0b2d660aa625b7aa7c6b72a7c0c884cab883\": \"0x62f77e12b8835f13ec37fc7a9763a7efb87b6615\"})\n",
    "proposals['author'] = proposals['author'].replace({\"0x7d4f0b2d660aa625b7aa7c6b72a7c0c884cab883\": \"0x62f77e12b8835f13ec37fc7a9763a7efb87b6615\"})"
   ]
  },
  {
   "cell_type": "markdown",
   "id": "72e2f9e8",
   "metadata": {},
   "source": [
    "- 0x6107e341e1f93af3e32fde1a104bd39fbad1e30e Old ID\n",
    "- 0x10854be0c17346a1197160afd06d79df6006ecb9 New ID"
   ]
  },
  {
   "cell_type": "code",
   "execution_count": null,
   "id": "19c0fc83",
   "metadata": {},
   "outputs": [],
   "source": [
    "votes['voter'] = votes['voter'].replace({\"0x6107e341e1f93af3e32fde1a104bd39fbad1e30e\": \"0x10854be0c17346a1197160afd06d79df6006ecb9\"})\n",
    "proposals['author'] = proposals['author'].replace({\"0x6107e341e1f93af3e32fde1a104bd39fbad1e30e\": \"0x10854be0c17346a1197160afd06d79df6006ecb9\"})"
   ]
  },
  {
   "cell_type": "markdown",
   "id": "ece94635",
   "metadata": {},
   "source": [
    "## Analysis of votes in the DAO"
   ]
  },
  {
   "cell_type": "markdown",
   "id": "6138a5eb",
   "metadata": {},
   "source": [
    "Votes per proposal"
   ]
  },
  {
   "cell_type": "code",
   "execution_count": null,
   "id": "edcf7b9d",
   "metadata": {},
   "outputs": [],
   "source": [
    "num_voters = votes['voter'].nunique()\n",
    "votes_series = proposals['votes']\n",
    "\n",
    "print(f\"Max number of votes in a proposal: {votes_series.max()}, {votes_series.max()/num_voters*100:.2f}%\")\n",
    "print(f\"Min number of votes in a proposal: {votes_series.min()}, {votes_series.min()/num_voters*100:.2f}%\")\n",
    "print(f\"Median number of votes: {votes_series.median()}, {votes_series.median()/num_voters*100:.2f}%\")\n",
    "print(f\"Mean number of votes: {votes_series.mean():.2f}, {votes_series.mean()/num_voters*100:.2f}%\")\n"
   ]
  },
  {
   "cell_type": "markdown",
   "id": "d5ef1e90",
   "metadata": {},
   "source": [
    "Votes per voter"
   ]
  },
  {
   "cell_type": "code",
   "execution_count": null,
   "id": "9f82a509",
   "metadata": {},
   "outputs": [],
   "source": [
    "num_props = len(proposals['id'])\n",
    "\n",
    "votes_gr = votes.groupby('voter')['id'].count()\n",
    "\n",
    "max_v = votes_gr.max()\n",
    "min_v = votes_gr.min()\n",
    "med_v = statistics.median(votes_gr)\n",
    "mean_v = float(statistics.mean(votes_gr))\n",
    "\n",
    "print(f\"Max number of votes for a voter: {max_v}, {max_v/num_props*100:.2f}%\")\n",
    "print(f\"Min number of votes for a voter: {min_v}, {min_v/num_props*100:.2f}%\")\n",
    "print(f\"Median number of votes: {med_v}, {med_v/num_props*100:.2f}%\")\n",
    "print(f\"Mean number of votes: {mean_v:.2f}, {mean_v/num_props*100:.2f}%\")"
   ]
  },
  {
   "cell_type": "markdown",
   "id": "e6c56e55",
   "metadata": {},
   "source": [
    "## Analysis of Voting Power in the DAO"
   ]
  },
  {
   "cell_type": "code",
   "execution_count": null,
   "id": "e404191b",
   "metadata": {},
   "outputs": [],
   "source": [
    "# sum of the median vp values of the voters\n",
    "vp = [statistics.median(votes[votes['voter'] == voter]['vp']) for voter in set(votes['voter'])]\n",
    "total_median_vp = sum(vp)\n",
    "\n",
    "print(f\"Sum of the median vp values of the voters: {total_median_vp:.2f}\")\n",
    "\n",
    "# Proposals' VP metrics (display with two decimal places)\n",
    "scores = proposals['scores_total']\n",
    "\n",
    "print(f\"Max VP in a proposal: {scores.max():.2f}, {scores.max()/total_median_vp*100:.2f}%\")\n",
    "print(f\"Min VP in a proposal: {scores.min():.2f}, {scores.min()/total_median_vp*100:.2f}%\")\n",
    "print(f\"Median VP in a proposal: {statistics.median(scores):.2f}, {statistics.median(scores)/total_median_vp*100:.2f}%\")\n",
    "print(f\"Mean VP in a proposal: {statistics.mean(scores):.2f}, {statistics.mean(scores)/total_median_vp*100:.2f}%\")\n",
    "\n",
    "# Voters' VP (median)\n",
    "vp_gr = votes.groupby('voter')['vp'].median()\n",
    "\n",
    "max_vp = vp_gr.max()\n",
    "min_vp = vp_gr.min()\n",
    "med_vp = statistics.median(vp_gr)\n",
    "mean_vp = statistics.mean(vp_gr)\n",
    "\n",
    "print(f\"Max vp for a voter (median): {max_vp:.2f}, {max_vp/total_median_vp*100:.2f}%\")\n",
    "print(f\"Min vp for a voter (median): {min_vp:.2f}, {min_vp/total_median_vp*100:.2f}%\")\n",
    "print(f\"Median vp for a voter (median): {med_vp:.2f}, {med_vp/total_median_vp*100:.2f}%\")\n",
    "print(f\"Mean vp for a voter (median): {mean_vp:.2f}, {mean_vp/total_median_vp*100:.2f}%\")"
   ]
  },
  {
   "cell_type": "markdown",
   "id": "59eb1d89",
   "metadata": {},
   "source": [
    "## Analysis of the results of the proposals"
   ]
  },
  {
   "cell_type": "code",
   "execution_count": null,
   "id": "d235e6f1",
   "metadata": {},
   "outputs": [],
   "source": [
    "secundada = 0\n",
    "nosecundada = 0\n",
    "novotos = 0\n",
    "unanimidadConAutor = 0 \n",
    "unanimidadSinAutor = 0 \n",
    "unanimidad = 0\n",
    "\n",
    "for prop_id in proposals['id']:\n",
    "    autor = list(proposals[proposals['id'] == prop_id]['author'])[0]\n",
    "    \n",
    "    autor_aux = votes['voter'] == autor\n",
    "    prop_aux = np.array(votes['prop_id']) == prop_id \n",
    "    filter = votes[np.logical_and(prop_aux , autor_aux)]['created']\n",
    "    \n",
    "    num_votos = list(proposals[proposals['id'] == prop_id]['votes'])[0]\n",
    "    if num_votos == 0:\n",
    "        novotos +=1\n",
    "    \n",
    "    elif len(filter) > 0: \n",
    "        opt_autor = votes[np.logical_and(prop_aux , autor_aux)]['choice'].to_list()[0]        \n",
    "        # winner option\n",
    "        opt_win = votes[votes['prop_id'] == prop_id].groupby('choice')['vp'].sum().idxmax()        \n",
    "        \n",
    "        if opt_win == opt_autor:\n",
    "            secundada += 1 \n",
    "            \n",
    "            aux = votes[votes['prop_id'] == prop_id]\n",
    "            aux2 = aux[aux['choice']==opt_win]['id'].count()\n",
    "            if num_votos == aux2:\n",
    "                unanimidadConAutor +=1                \n",
    "                \n",
    "        else:       \n",
    "            nosecundada +=1\n",
    "\n",
    "    else:\n",
    "        aux = votes[votes['prop_id'] == prop_id]\n",
    "        aux2 = aux[aux['choice']==1]['id'].count()\n",
    "        \n",
    "        if num_votos == aux2:\n",
    "                unanimidadSinAutor +=1        \n",
    "\n",
    "        \n",
    "print(f\"The option voted for by the author wins: {secundada}\")\n",
    "print(f\"The option voted for by the author does not win: {nosecundada}\")\n",
    "print(f\"Proposals without votes: {novotos}\")\n",
    "print(f\"Unanimous proposals (the author does not vote): {unanimidadSinAutor}\")\n",
    "print(f\"Unanimous proposals (same opinion as the author): {unanimidadConAutor}\")"
   ]
  },
  {
   "cell_type": "code",
   "execution_count": null,
   "id": "1a32e78a",
   "metadata": {},
   "outputs": [],
   "source": [
    "vp = []\n",
    "\n",
    "for prop in proposals['id']:\n",
    "    opt_win = votes[votes['prop_id'] == prop].groupby('choice')['vp'].sum().idxmax()\n",
    "    vp_aux = votes[votes['prop_id'] == prop]\n",
    "    vp_aux2 = vp_aux[vp_aux['choice']==opt_win]['vp'].sum()\n",
    "\n",
    "    a = list(proposals[proposals['id']==prop]['scores_total'])[0]\n",
    "    vp.append(vp_aux2 / a * 100)\n",
    "    \n",
    "\n",
    "print(f\"Average VP of the winning option: {statistics.mean(vp):.2f}\")"
   ]
  },
  {
   "cell_type": "code",
   "execution_count": null,
   "id": "c16f69e8",
   "metadata": {},
   "outputs": [],
   "source": [
    "votos = []\n",
    "\n",
    "for prop in proposals['id']:\n",
    "    opt_win = votes[votes['prop_id'] == prop].groupby('choice')['vp'].sum().idxmax()\n",
    "    vp_aux = votes[votes['prop_id'] == prop]\n",
    "    vp_aux2 = vp_aux[vp_aux['choice']==opt_win]['id'].count()\n",
    "\n",
    "    a = list(proposals[proposals['id']==prop]['votes'])[0]\n",
    "    votos.append(vp_aux2 / a * 100)\n",
    "    \n",
    "        \n",
    "print(f\"Average votes for winning option: {statistics.mean(votos):.2f}\")"
   ]
  },
  {
   "cell_type": "markdown",
   "id": "7bec25c1",
   "metadata": {},
   "source": [
    "# Analysis of inequality in the DAO"
   ]
  },
  {
   "cell_type": "code",
   "execution_count": null,
   "id": "d5e2ad9c",
   "metadata": {},
   "outputs": [],
   "source": [
    "# voters who together account for > 50% of the VP \n",
    "\n",
    "totalVP = 0\n",
    "vps = []\n",
    "for voter in set(votes['voter']):\n",
    "  sum_vp = votes[votes['voter']==voter]['vp'].median()\n",
    "  totalVP += sum_vp\n",
    "  vps.append(sum_vp)\n",
    "\n",
    "ordenado = sorted(vps, reverse = True)\n",
    "\n",
    "sumi = 0\n",
    "for i in range(len(ordenado)):\n",
    "  sumi += ordenado[i]\n",
    "  if sumi > totalVP/2:\n",
    "    res = i+1\n",
    "    print(f\"Number of voters that together hold > 50% of the DAO VP: {res}\")\n",
    "    break\n",
    "\n",
    "print(f\"Percentage: {res/len(ordenado)*100:.2f}%\")"
   ]
  },
  {
   "cell_type": "markdown",
   "id": "bf81b29e",
   "metadata": {},
   "source": [
    "Calculation of the Gini coefficient (per voter) to measure inequality among VPs"
   ]
  },
  {
   "cell_type": "code",
   "execution_count": null,
   "id": "594f20ab",
   "metadata": {},
   "outputs": [],
   "source": [
    "#GINI \n",
    "def gini(x):\n",
    "    total = 0\n",
    "    for i, xi in enumerate(x[:-1], 1):\n",
    "        total += np.sum(np.abs(xi - x[i:]))\n",
    "    return total / (len(x)**2 * np.mean(x))\n",
    "\n",
    "VP_gruped_per_voter = votes.groupby([\"voter\"])[\"vp\"]\n",
    "data = VP_gruped_per_voter.median()\n",
    "print(f\"Gini coefficient: {gini(data):.2f}\")"
   ]
  },
  {
   "cell_type": "markdown",
   "id": "6ce44ef4",
   "metadata": {},
   "source": [
    "Plot of the Gini coefficient for the different proposals to observe inequality in the distribution of VPs"
   ]
  },
  {
   "cell_type": "code",
   "execution_count": null,
   "id": "3c4edfd3",
   "metadata": {},
   "outputs": [],
   "source": [
    "#gini per proposal\n",
    "plt.rcParams[\"figure.figsize\"]=(16,10)\n",
    "data = {}\n",
    "cadena = \"P\"\n",
    "i = 1\n",
    "\n",
    "for prop_id, date in SortedPropsIDs:\n",
    "  if list(proposals[proposals['id'] == prop_id]['scores_total'])[0] != 0:\n",
    "    prop_aux = np.array(votes['prop_id']) == prop_id\n",
    "    total_vp = votes[ prop_aux ]['vp']\n",
    "    data[\"P\"+str(i)] = gini(np.array(total_vp))\n",
    "  i+=1\n",
    "\n",
    "plt.bar(list(data.keys()), list(data.values()))\n",
    "#plt.axhline(0.9)\n",
    "plt.ylim(0,1)\n",
    "plt.xticks(rotation=45)\n",
    "plt.xlabel('Proposal', fontsize=25)\n",
    "plt.ylabel('Gini coefficient', fontsize=25)\n",
    "\n",
    "plt.xticks(fontsize=12)\n",
    "plt.yticks(fontsize=20)\n",
    "plt.yticks(np.arange(0, 1.1, 0.1))\n",
    "plt.savefig(\"gini_prop.pdf\", format=\"pdf\", bbox_inches=\"tight\")\n",
    "\n",
    "plt.show()"
   ]
  },
  {
   "cell_type": "code",
   "execution_count": null,
   "id": "c7386d06",
   "metadata": {},
   "outputs": [],
   "source": [
    "print(f\"Average Gini values for the different proposals: {statistics.mean(data.values()):.2f}\")\n",
    "print()\n",
    "print(f\"Median of Gini values for the different proposals: {statistics.median(data.values()):.2f}\")"
   ]
  },
  {
   "cell_type": "markdown",
   "id": "72dc93f2",
   "metadata": {},
   "source": [
    "Representation of the Lorez curve to observe VP inequality in the DAO"
   ]
  },
  {
   "cell_type": "code",
   "execution_count": null,
   "id": "e6326712",
   "metadata": {},
   "outputs": [],
   "source": [
    "def lorenz_curve(X):\n",
    "  X_lorenz = X.cumsum() / X.sum()\n",
    "  X_lorenz = np.insert(X_lorenz, 0, 0)\n",
    "  X_lorenz[0], X_lorenz[-1]\n",
    "\n",
    "  fig, ax = plt.subplots(figsize=[6,6])\n",
    "  ## scatter plot of Lorenz curve\n",
    "  ax.scatter(np.arange(X_lorenz.size)/(X_lorenz.size-1), X_lorenz, \n",
    "           s=80, facecolors='none', edgecolors='darkorange')\n",
    "  ## line plot of equality\n",
    "  ax.plot([0,1], [0,1], color='k')\n",
    "  plt.axhline(y=0.5, color='grey', lw=0.5)\n",
    "  \n",
    "  plt.ylabel(\"Cumulative voting power\" , fontsize=20)\n",
    "  plt.xlabel(\"Cumulative voters\", fontsize=20)\n",
    "\n",
    "  plt.xticks(fontsize=15)\n",
    "  plt.yticks(fontsize=15)\n",
    "\n",
    "  plt.savefig(\"lorenz.pdf\", format=\"pdf\", bbox_inches=\"tight\")\n",
    "\n",
    "  plt.show()\n",
    "\n",
    "\n",
    "\n",
    "X = dict(votes.groupby([\"voter\"])[\"vp\"].median())\n",
    "X = np.array(sorted(list(X.values())))\n",
    "\n",
    "print(\"Lorenz curve with VP median\")\n",
    "lorenz_curve(X)"
   ]
  },
  {
   "cell_type": "markdown",
   "id": "091136fe",
   "metadata": {},
   "source": [
    "# Analysis of voters with the highest VP (whales)"
   ]
  },
  {
   "cell_type": "markdown",
   "id": "90db9c36",
   "metadata": {},
   "source": [
    "Observation of the 5 voters with the highest VP"
   ]
  },
  {
   "cell_type": "code",
   "execution_count": null,
   "id": "6d8e788a",
   "metadata": {},
   "outputs": [],
   "source": [
    "votes.loc[votes.groupby(\"voter\")[\"vp\"].idxmax()].nlargest(5, \"vp\")[[\"voter\", \"vp\"]]"
   ]
  },
  {
   "cell_type": "markdown",
   "id": "7faa90fd",
   "metadata": {},
   "source": [
    "Number of votes cast by the 5 voters with the highest VP"
   ]
  },
  {
   "cell_type": "code",
   "execution_count": null,
   "id": "918eb0a4",
   "metadata": {},
   "outputs": [],
   "source": [
    "for id in votes.loc[votes.groupby(\"voter\")[\"vp\"].idxmax()].nlargest(5, \"vp\")[\"voter\"]:\n",
    "    print(\"Voter\", id, \"voted\", len(votes[votes['voter']==id]), \"times.\")"
   ]
  },
  {
   "cell_type": "markdown",
   "id": "479c10ce",
   "metadata": {},
   "source": [
    "Range diagram of each voter's VP, sorted from lowest to highest average VP"
   ]
  },
  {
   "cell_type": "code",
   "execution_count": null,
   "id": "70edc19d",
   "metadata": {},
   "outputs": [],
   "source": [
    "test = []\n",
    "myDict = {}\n",
    "\n",
    "for voter in set(votes['voter']):\n",
    "    mymax = max(votes[votes['voter'] == voter]['vp'])\n",
    "    mymin = min(votes[votes['voter'] == voter]['vp'])\n",
    "    mymedian = statistics.median(votes[votes['voter'] == voter]['vp'])\n",
    "    myDict[voter] = (mymax + 1, mymin + 1, mymedian + 1)\n",
    "    test.append(mymedian)\n",
    "\n",
    "ordenado = sorted(myDict.items(), key=lambda x: x[1][2])\n",
    "\n",
    "x_values = range(len(ordenado))  # Valores originales de 0 a N-1\n",
    "\n",
    "for i in x_values:\n",
    "    plt.vlines(i, ordenado[i][1][1], ordenado[i][1][0], color='black', zorder=0)\n",
    "\n",
    "plt.scatter(x_values, list(map(lambda p: p[1][2], ordenado)), zorder=5)\n",
    "\n",
    "plt.xticks(ticks=x_values, labels=range(1, len(ordenado) + 1), fontsize=15)  # Etiquetas de 1 a N\n",
    "plt.yticks(fontsize=15)\n",
    "\n",
    "plt.xlabel(\"Voters\", fontsize=20)\n",
    "plt.ylabel(\"Voting power\", fontsize=20)\n",
    "\n",
    "plt.ylim(-0.1, max(map(lambda p: p[1][0], ordenado)) + 10000)  # Eje Y empieza en 0 y se ajusta al máximo de vp\n",
    "\n",
    "plt.grid()\n",
    "plt.axvline(x=23.5, color='b', label='50% of estimated VP')\n",
    "\n",
    "plt.show()\n"
   ]
  },
  {
   "cell_type": "markdown",
   "id": "4a95200b",
   "metadata": {},
   "source": [
    "# Analysis of the authors of the proposals"
   ]
  },
  {
   "cell_type": "markdown",
   "id": "231aec34",
   "metadata": {},
   "source": [
    "We plot the distribution of proposals over time.\n",
    "\n",
    "- Green: author votes for the winning option\n",
    "\n",
    "- Gray: no one votes\n",
    "\n",
    "- Blue: author does not vote\n",
    "\n",
    "- Red: author votes for the losing option"
   ]
  },
  {
   "cell_type": "code",
   "execution_count": null,
   "id": "0efe236b",
   "metadata": {},
   "outputs": [],
   "source": [
    "azul = {}\n",
    "gris = {}\n",
    "verde = {}\n",
    "rojo = {}\n",
    "for date in allMonthsNew:\n",
    "  azul[date] = 0\n",
    "  gris[date] = 0\n",
    "  verde[date] = 0\n",
    "  rojo[date] = 0\n",
    "\n",
    "\n",
    "for prop_id in proposals['id']:\n",
    "  autor = list(proposals[proposals['id'] == prop_id]['author'])[0]\n",
    "\n",
    "  autor_aux = votes['voter'] == autor\n",
    "  prop_aux = np.array(votes['prop_id']) == prop_id\n",
    "\n",
    "  date = list(pd.to_datetime(proposals[proposals['id'] == prop_id]['created']))[0].strftime('%Y-%b')\n",
    "    \n",
    "  num_votos = list(proposals[proposals['id'] == prop_id]['votes'])[0]\n",
    "  filter = votes[ np.logical_and(prop_aux , autor_aux)]['created']\n",
    "  \n",
    "  #grey: no one votes\n",
    "  if num_votos == 0:\n",
    "    gris[date] += 1  \n",
    "  #blue: author does not vote\n",
    "  elif len(filter) == 0:\n",
    "    if date in azul:\n",
    "      azul[date] += 1\n",
    "\n",
    "  else:\n",
    "    opt_autor = votes[ np.logical_and(prop_aux , autor_aux)]['choice'].to_list()[0]  \n",
    "    opt_winner = votes[votes['prop_id'] == prop_id].groupby('choice')['vp'].sum().idxmax() \n",
    "\n",
    "    #green: the option the author voted wins\n",
    "    if opt_winner == opt_autor :\n",
    "      verde[date] += 1\n",
    "    #red\n",
    "    else:\n",
    "      rojo[date] +=1\n",
    "\n",
    "y1 = np.array(list(gris.values()))\n",
    "y2 = np.array(list(azul.values()))\n",
    "y3 = np.array(list(rojo.values()))\n",
    "\n",
    "\n",
    "plt.bar(gris.keys(), gris.values(), color='silver', label='No votes')\n",
    "plt.bar(azul.keys(), azul.values(), bottom=y1, color='darkturquoise', label='Author doesnt vote')\n",
    "plt.bar(rojo.keys(), rojo.values(), bottom=y1 + y2, color='red', label='Authors option doesnt win')\n",
    "plt.bar(verde.keys(), verde.values(), bottom=y1+y2+y3, color='limegreen', label='Authors option does win')\n",
    "plt.legend()\n",
    "plt.title(\"Proposals over time\")\n",
    "plt.ylabel(\"Number of proposals\")\n",
    "plt.xticks(rotation=90)\n",
    "plt.tight_layout()"
   ]
  },
  {
   "cell_type": "markdown",
   "id": "8d08e9d3",
   "metadata": {},
   "source": [
    "We plot the number of votes for each proposal.\n",
    "\n",
    "- Blue: the author has not voted\n",
    "\n",
    "- Dark green: the author's vote\n",
    "\n",
    "- Green: other members' votes for the same option as the author.\n",
    "\n",
    "- Red: other members' votes for an option different from the author's."
   ]
  },
  {
   "cell_type": "code",
   "execution_count": null,
   "id": "3efbe826",
   "metadata": {},
   "outputs": [],
   "source": [
    "azul = {}\n",
    "verde = {}\n",
    "rojo = {}\n",
    "rosa = {}\n",
    "gris={}\n",
    "i=1\n",
    "for prop in proposals['id']:\n",
    "  azul[\"P\"+str(i)] = 0\n",
    "  verde[\"P\"+str(i)] = 0\n",
    "  rojo[\"P\"+str(i)] = 0\n",
    "  rosa[\"P\"+str(i)] = 0\n",
    "  gris[\"P\"+str(i)] = 0\n",
    "  i+=1\n",
    "\n",
    "i=1\n",
    "for prop_id, nousar in SortedPropsIDs:\n",
    "  # print(\"P\"+str(i))\n",
    "  # print(prop_id)\n",
    "  autor = list(proposals[proposals['id'] == prop_id]['author'])[0]\n",
    "\n",
    "  autor_aux = votes['voter'] == autor\n",
    "  prop_aux = np.array(votes['prop_id']) == prop_id\n",
    "\n",
    "    \n",
    "  num_votos = list(proposals[proposals['id'] == prop_id]['votes'])[0]\n",
    "  filter = votes[ np.logical_and(prop_aux , autor_aux)]['created']\n",
    "  \n",
    "  #grey: no one votes, not represented in the plot\n",
    "  if num_votos == 0:\n",
    "    gris[\"P\"+str(i)] += 1\n",
    "  #Author does not vote\n",
    "  elif len(filter) == 0:\n",
    "    azul[\"P\"+str(i)] += num_votos\n",
    "\n",
    "  else:\n",
    "    #Author votes\n",
    "    opt_autor = votes[ np.logical_and(prop_aux , autor_aux)]['choice'].to_list()[0]    \n",
    "    \n",
    "    #num votes - author option\n",
    "    n = votes[votes['prop_id']==prop_id]\n",
    "    n = n[n['choice']==opt_autor]['id'].count()\n",
    "    #green -> votes count = votes recieved by the option the author chose\n",
    "    verde[\"P\"+str(i)] += n -1\n",
    "    #dark green -> author's vote\n",
    "    rosa[\"P\"+str(i)] += 1\n",
    "    #red\n",
    "    rojo[\"P\"+str(i)] += num_votos - n\n",
    "  i+=1\n",
    "\n",
    "y1 = np.array(list(azul.values()))\n",
    "y2 = np.array(list(rojo.values()))\n",
    "y3 = np.array(list(verde.values()))\n",
    "\n",
    "plt.bar(azul.keys(), azul.values(), color='darkturquoise', label='Author doesnt vote')\n",
    "plt.bar(rojo.keys(), rojo.values(), bottom=y1, color='red', label='Votes against the authors option')\n",
    "plt.bar(verde.keys(), verde.values(), bottom=y1+y2, color='limegreen', label='Votes for the authors option')\n",
    "plt.bar(rosa.keys(), rosa.values(), bottom=y1+y2+y3, color='darkgreen', label='Authors vote')\n",
    "\n",
    "plt.xticks(rotation=90)\n",
    "plt.title('Number of votes per proposal')\n",
    "\n",
    "\n",
    "plt.show()"
   ]
  },
  {
   "cell_type": "markdown",
   "id": "5dcbadf3",
   "metadata": {},
   "source": [
    "We plot the VP for each proposal.\n",
    "\n",
    "- Blue: the author has not voted\n",
    "\n",
    "- Dark green: the author's vote\n",
    "\n",
    "- Green: other members' votes for the same option as the author.\n",
    "\n",
    "- Red: other members' votes for an option different from the author's."
   ]
  },
  {
   "cell_type": "code",
   "execution_count": null,
   "id": "54514335",
   "metadata": {},
   "outputs": [],
   "source": [
    "azul = {}\n",
    "verde = {}\n",
    "rojo = {}\n",
    "rosa = {}\n",
    "gris={}\n",
    "i=1\n",
    "for prop in proposals['id']:\n",
    "  azul[\"P\"+str(i)] = 0\n",
    "  verde[\"P\"+str(i)] = 0\n",
    "  rojo[\"P\"+str(i)] = 0\n",
    "  rosa[\"P\"+str(i)] = 0\n",
    "  gris[\"P\"+str(i)] = 0\n",
    "  i+=1\n",
    "\n",
    "i=1\n",
    "for prop_id, nousar in SortedPropsIDs:\n",
    "  autor = list(proposals[proposals['id'] == prop_id]['author'])[0]\n",
    "\n",
    "  autor_aux = votes['voter'] == autor\n",
    "  prop_aux = np.array(votes['prop_id']) == prop_id\n",
    "    \n",
    "  num_votos = list(proposals[proposals['id'] == prop_id]['votes'])[0]\n",
    "  filter = votes[ np.logical_and(prop_aux , autor_aux)]['created']\n",
    "\n",
    "  total_vp = list(proposals[proposals['id'] == prop_id]['scores_total'])[0]\n",
    "  \n",
    "  # no votes\n",
    "  if num_votos == 0:\n",
    "    gris[\"P\"+str(i)] += 1  \n",
    "  # author does not vote\n",
    "  elif len(filter) == 0:\n",
    "    # all votes are represented by blue colour\n",
    "    azul[\"P\"+str(i)] += total_vp\n",
    "\n",
    "  else:\n",
    "    # The author votes\n",
    "    opt_autor = votes[ np.logical_and(prop_aux , autor_aux)]['choice'].to_list()[0]  \n",
    "    n = votes[votes['prop_id']==prop_id]\n",
    "    n = n[n['choice']==opt_autor]['vp'].sum()\n",
    "    \n",
    "    vp_autor = votes[ np.logical_and(prop_aux , autor_aux)]['vp'].to_list()[0] \n",
    "    \n",
    "    #green\n",
    "    verde[\"P\"+str(i)] += n - vp_autor\n",
    "    rosa[\"P\"+str(i)] += vp_autor\n",
    "    \n",
    "    rojo[\"P\"+str(i)] += total_vp - n\n",
    "  i+=1\n",
    "\n",
    "y1 = np.array(list(azul.values()))\n",
    "y2 = np.array(list(rojo.values()))\n",
    "y3 = np.array(list(verde.values()))\n",
    "\n",
    "plt.bar(azul.keys(), azul.values(), color='darkturquoise', label='Author doesnt vote')\n",
    "plt.bar(rojo.keys(), rojo.values(), bottom=y1, color='red', label='VP against the authors option')\n",
    "plt.bar(verde.keys(), verde.values(), bottom=y1+y2, color='limegreen', label='VP for the authors option')\n",
    "plt.bar(rosa.keys(), rosa.values(), bottom=y1+y2+y3, color='darkgreen', label='Authors VP')\n",
    "\n",
    "plt.xticks(rotation = 45)\n",
    "\n",
    "plt.ylabel(\"Voting power\")\n",
    "\n",
    "ax = plt.gca()\n",
    "ax2 = ax.twinx()\n",
    "val = 180001/total_median_vp*100\n",
    "ax2.set_ylabel(\"Percentage of total median voting power\")\n",
    "\n",
    "\n",
    "\n",
    "plt.title('Voting power per proposal')\n",
    "plt.show()"
   ]
  },
  {
   "cell_type": "markdown",
   "id": "ec53f986",
   "metadata": {},
   "source": [
    "# Other analyses"
   ]
  },
  {
   "cell_type": "markdown",
   "id": "40586cc6",
   "metadata": {},
   "source": [
    "We represent the number of voters accumulated over time in the DAO."
   ]
  },
  {
   "cell_type": "code",
   "execution_count": null,
   "id": "8383d473",
   "metadata": {},
   "outputs": [],
   "source": [
    "myDict = {}\n",
    "aux=0\n",
    "for date in allMonths:\n",
    "  for voter in set(votes['voter']):\n",
    "    date_aux = min(pd.to_datetime(votes[votes['voter'] == voter]['created']).dt.to_period('M').astype(str))\n",
    "    if date == date_aux:\n",
    "      aux += 1\n",
    "  myDict[date] = aux\n",
    "\n",
    "fig, ax = plt.subplots()\n",
    "ax.bar(list(myDict.keys()), list(myDict.values()))\n",
    "plt.xticks(range(len(DateAxis)), DateAxis)\n",
    "\n",
    "plt.title('Cumulative new voters')\n",
    "plt.show()\n"
   ]
  },
  {
   "cell_type": "markdown",
   "id": "933104a5",
   "metadata": {},
   "source": [
    "We represent the correlation between the median VP and the total number of votes cast by each voter using a scatter plot."
   ]
  },
  {
   "cell_type": "code",
   "execution_count": null,
   "id": "791f7095",
   "metadata": {},
   "outputs": [],
   "source": [
    "VP_gruped_per_voter = votes.groupby([\"voter\"])[\"vp\"]\n",
    "VP_median_per_voter = VP_gruped_per_voter.median()\n",
    "\n",
    "votes_per_voter = votes.groupby([\"voter\"])[\"id\"].count()\n",
    "\n",
    "\n",
    "plt.style.use('bmh')\n",
    "plt.xlim(-4000, 260000)\n",
    "plt.yticks(np.arange(0, 47, step=5))\n",
    "plt.scatter(VP_median_per_voter, votes_per_voter, alpha=0.5, s=100)\n",
    "plt.xlabel('Median voting power', fontsize=20)\n",
    "plt.ylabel('Total number of votes', fontsize=20)\n",
    "plt.xticks(fontsize=15)\n",
    "plt.yticks(fontsize=15)\n",
    "\n",
    "plt.savefig(\"votosVPx.pdf\", format=\"pdf\", bbox_inches=\"tight\")\n",
    "\n",
    "plt.show()"
   ]
  },
  {
   "cell_type": "markdown",
   "id": "a0b9b222",
   "metadata": {},
   "source": [
    "For all proposals, we represent the percentage of votes and VP of the winning option."
   ]
  },
  {
   "cell_type": "code",
   "execution_count": null,
   "id": "b96c712d",
   "metadata": {},
   "outputs": [],
   "source": [
    "vp = {}\n",
    "nvotos = {}\n",
    "x=1\n",
    "\n",
    "\n",
    "for prop in proposals['id']:\n",
    "    opt_winner = votes[votes['prop_id'] == prop].groupby('choice')['vp'].sum().idxmax()  \n",
    "\n",
    "    a = votes[votes['prop_id'] == prop]\n",
    "    vpWin = a[a['choice']==opt_winner]['vp'].sum()\n",
    "    \n",
    "    vpTotal = list(proposals[proposals['id']==prop]['scores_total'])[0]\n",
    "    \n",
    "    porcentaje = vpWin * 100 / vpTotal\n",
    "    \n",
    "    vp[ \"P\"+str(x)] = porcentaje\n",
    "    x+=1\n",
    "  \n",
    "aux = {}\n",
    "for prop in proposals['id']:  \n",
    "    opt_winner = votes[votes['prop_id'] == prop].groupby('choice')['vp'].sum().idxmax()    \n",
    "    a = votes[votes['prop_id'] == prop]\n",
    "    num_votosWin = a[a['choice']==opt_winner]['id'].count()\n",
    "    \n",
    "    num_votos = list(proposals[proposals['id']==prop]['votes'])[0]\n",
    "    \n",
    "    perc = num_votosWin * 100 / num_votos\n",
    "    aux[prop] = perc\n",
    "\n",
    "y = 1\n",
    "for prop, nousar in SortedPropsIDs:\n",
    "  if prop in aux:\n",
    "    nvotos[\"P\"+str(y)] = aux[prop]\n",
    "  y+=1\n",
    "  \n",
    "\n",
    "plt.style.use('bmh')\n",
    "\n",
    "\n",
    "x_axis = np.arange(len(list(map(lambda p: p[0], nvotos))))\n",
    "fig = plt.figure()\n",
    "ax = plt.gca()\n",
    "\n",
    "\n",
    "ax.bar( x_axis-0.2, list(nvotos.values()), width=0.4, align='center', color='tab:orange', label='Votes')\n",
    "plt.xticks(x_axis, list(nvotos.keys()), rotation=45)\n",
    "\n",
    "ax.tick_params(axis='y')\n",
    "\n",
    "ax.bar(  x_axis+0.2, list(vp.values()), width=0.4, align='center', color='tab:blue', label='Voting power')\n",
    "plt.legend(fontsize=20, loc=3)\n",
    "\n",
    "plt.axhline(y=50, label=\"50%\", color='b')\n",
    "\n",
    "plt.savefig(\"agree_bar.pdf\", format=\"pdf\", bbox_inches=\"tight\")\n",
    "plt.show()"
   ]
  },
  {
   "cell_type": "markdown",
   "id": "69b82e20",
   "metadata": {},
   "source": [
    "We represent the relationship between the percentage of votes and the percentage of VP of the winning option using a scatter plot."
   ]
  },
  {
   "cell_type": "code",
   "execution_count": null,
   "id": "d6248842",
   "metadata": {},
   "outputs": [],
   "source": [
    "x = []\n",
    "y = []\n",
    "\n",
    "for i in vp.items():\n",
    "  for j in nvotos.items():\n",
    "    if i[0] == j[0]:\n",
    "      y.append(i[1])\n",
    "      x.append(j[1])\n",
    "\n",
    "plt.style.use('bmh')\n",
    "plt.axes().set_aspect('equal')\n",
    "plt.scatter(x, y, alpha=0.3, s=150)\n",
    "plt.xlim(0, 100)\n",
    "plt.ylim(0, 100)\n",
    "\n",
    "\n",
    "plt.ylabel('Percentage of voting power', fontsize=20)\n",
    "plt.xlabel('Percentage of votes', fontsize=20)\n",
    "\n",
    "plt.xticks(fontsize=15)\n",
    "plt.yticks(fontsize=15)\n",
    "\n",
    "plt.savefig(\"agree.pdf\", format=\"pdf\", bbox_inches=\"tight\")\n",
    "plt.show()"
   ]
  },
  {
   "cell_type": "markdown",
   "id": "507cb631",
   "metadata": {},
   "source": [
    "We represent the relationship between the average VP and the number of votes for each DAO proposal."
   ]
  },
  {
   "cell_type": "code",
   "execution_count": null,
   "id": "46e020bc",
   "metadata": {},
   "outputs": [],
   "source": [
    "x = []\n",
    "y = []\n",
    "ids = []\n",
    "i=1\n",
    "for prop_id in proposals['id']:\n",
    "\n",
    "  num_votos = proposals[proposals['id']==prop_id]['votes']\n",
    "  vp = proposals[proposals['id'] == prop_id]['scores_total']\n",
    "\n",
    "  x.append(num_votos)\n",
    "  y.append(vp/num_votos)\n",
    "  ids.append(\"P\"+str(i))\n",
    "  i+=1\n",
    "\n",
    "plt.style.use('bmh')\n",
    "plt.scatter(x, y, alpha=0.5, s=150)\n",
    "plt.ylabel('Average voting power', fontsize=20)\n",
    "plt.xlabel('Votes amount', fontsize=20)\n",
    "\n",
    "\n",
    "plt.savefig(\"prop_vvp.pdf\", format=\"pdf\", bbox_inches=\"tight\")"
   ]
  }
 ],
 "metadata": {
  "kernelspec": {
   "display_name": "Python 3 (ipykernel)",
   "language": "python",
   "name": "python3"
  },
  "language_info": {
   "codemirror_mode": {
    "name": "ipython",
    "version": 3
   },
   "file_extension": ".py",
   "mimetype": "text/x-python",
   "name": "python",
   "nbconvert_exporter": "python",
   "pygments_lexer": "ipython3",
   "version": "3.11.4"
  }
 },
 "nbformat": 4,
 "nbformat_minor": 5
}
